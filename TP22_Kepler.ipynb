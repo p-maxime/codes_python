{
 "cells": [
  {
   "cell_type": "markdown",
   "id": "a10d0fe1",
   "metadata": {},
   "source": [
    "# Lois de Kepler \n",
    "\n",
    "Points du programme : \n",
    "- Écrire une équation adimensionnée.\n",
    "- Capacité numérique : à l’aide d’un langage de programmation, obtenir des trajectoires d’un point matériel soumis à un champ de force centrale conservatif.\n",
    "- Énoncer les lois de Kepler pour les planètes et les transposer au cas des satellites terrestres.\n",
    "\n",
    "But du TP : \n",
    "- Adimensionner l'équation obtenue pour un astre soumis à une force centrale et tracer plusieurs types de trajectoires possibles en utilisant une méthode de résolution d'équation différentielle (odeint). Les lois de Kepler pourront être testées avec cette simulation.\n",
    "- Tester la deuxième et troisième loi de Kepler en utilisant des données expérimentales (coordonnées d'un satellite et trajectoires d'étoiles autour du trou noir supermassif de notre galaxie. "
   ]
  },
  {
   "cell_type": "code",
   "execution_count": 1,
   "id": "5d0a024d",
   "metadata": {},
   "outputs": [],
   "source": [
    "# import des bibliothèques de base comme toujours et de la méthode odeint\n",
    "import numpy as np\n",
    "import matplotlib.pyplot as plt\n",
    "from scipy.integrate import odeint"
   ]
  },
  {
   "cell_type": "markdown",
   "id": "5524b98e",
   "metadata": {},
   "source": [
    "## I - Simulation des lois de Kepler\n",
    "\n",
    "L'objectif de cette partie est de simuler un mouvement d'un point soumis à un champ de force central et de retrouver les lois de Kepler. Dans un premier temps, l'idée est d'adimensionner l'équation différentielle du mouvement obtenue à partir du principe fondamental de la dynamique.\n",
    "\n",
    "### I.1 - Adimensionnement\n",
    "\n",
    "Soit M un astre considéré comme un point matériel de masse m soumis à une force centrale gravitationnelle $\\vec{F} = -\\frac{Gmm'}{||\\overrightarrow{OM}||^3}\\overrightarrow{OM}$ où m' est la masse de l'astre vérifiant $m'\\gg m$ dont le centre O est l'origine d'un référentiel galiléen (on suppose le centre de masse du système confondu avec O pour l'étude du mouvement du point M). \n",
    "\n",
    "Le TMC appliqué sur le point matériel nous indique que le moment cinétique est conservé :\n",
    "- Le mouvement est donc plan. Nous utiliserons la base et les coordonnées cylindriques pour étudier ce mouvement dans le plan z = 0. La force se réecrit dans cette base $\\vec{F} = -\\frac{Gmm'}{r^2}\\vec{u}_r,$\n",
    "avec $\\vec{u}_r$ le vecteur radial. \n",
    "- La constante des aires $C = r^2 \\dot{\\theta}$ dépendra des conditions initiales $r(t=0) = r_0$ et $\\dot{\\theta}(t=0) = \\omega_0$ puisque $C = r^2 \\dot{\\theta} = r_0^2\\omega_0$ ($\\dot{\\theta}$ : vitesse angulaire).\n",
    "\n",
    "Appliquons le TEM : \n",
    "- Notons $Em_0$ l'énergie mécanique à l'instant initial. \n",
    "- L'énergie cinétique s'écrit pour tout temps en coordonnées cylindriques (mouvement plan) $Ec = \\frac{1}{2}m\\left(\\dot{r}^2 + \\left(r\\dot{\\theta}\\right)^2\\right)$. La variable $\\dot{\\theta}$ est liée à $r$ par la constante des aires, ce qui permet de réécrire l'énergie cinétique uniquement en fonction d'une seule variable : $Ec = \\frac{1}{2}m\\left(\\dot{r}^2 + \\frac{C^2}{r^2}\\right)$. \n",
    "- L'énegie potentielle s'écrit $Ep = -\\frac{Gmm'}{r} + Ep_\\infty$ où $Ep_\\infty$ est une constante arbitraire (on retrouve ce résultat en utilisant $\\vec{F}.d\\overrightarrow{OM} = -dEp$). \n",
    "- La force centrale étant conservative, l'énergie mécanique du système est conservée $Em_0 = E_p + E_c$. En éliminant les constantes et en divisant le tout par $m/2$, la dérivée conduit à la relation : \n",
    "\n",
    "$$\n",
    "\\begin{align}\n",
    "\\dfrac{\\rm d}{\\rm dt}\\left(\\dot{r}^2 + \\frac{C^2}{r^2} -\\frac{2Gm'}{r} \\right) &= 0\\\\\n",
    "\\ddot{r}\\dot{r} &= \\frac{2\\dot{r}C^2}{r^3} -\\frac{2\\dot{r}Gm'}{r^2}\\\\\n",
    "\\ddot{r} &= \\frac{C^2}{r^3} -\\frac{Gm'}{r^2} \\label{eq:mvt1} \\tag{1}\n",
    "\\end{align}\n",
    "$$\n",
    "\n",
    "La vitesse angulaire vérifie l'équation :\n",
    "\n",
    "$$\n",
    "\\begin{align}\n",
    "\\dot{\\theta} &= \\dfrac{C}{r^2} \\label{eq:mvt2} \\tag{2} \n",
    "\\end{align}\n",
    "$$\n"
   ]
  },
  {
   "cell_type": "markdown",
   "id": "db6378b6",
   "metadata": {},
   "source": [
    "<div class=\"alert alert-block alert-success\">\n",
    "    <b>Questions (sur feuille):</b> <br>\n",
    "    1 - Montrer que l'on peut définir à partir de l'équation (1) une distance d'équilibre (Indication : valeur de $r$ pour une accélération radiale nulle, notée $r_c$).<br>\n",
    "    2 - En déduire l'expression de la période de rotation $T_c$ en fonction de la constante des aires et de $r_c$. \n",
    "</div>\n",
    "Les valeurs $r_c$ et $T_c$ sont des paramètres caractéristiques d'un mouvement circulaire uniforme. Nous allons nous en servir pour adimensionner l'équation (1).\n",
    "<div class=\"alert alert-block alert-success\">\n",
    "    <b>Questions (sur feuille):</b> <br>\n",
    "    3 - Effectuer les changements de variables suivants : $t \\rightarrow T = 2\\pi t / T_c$ et $r \\rightarrow R = r/r_c$, et montrer que les équations (1) et (2) se mettent sous la forme suivante (en fonction de R et T uniquement) : \n",
    "    $$ \n",
    "    \\begin{cases}\n",
    "    R~'' = -\\dfrac{1}{R^2} + \\dfrac{1}{R^3},\\\\\n",
    "    \\theta~' = \\dfrac{1}{R^2},\n",
    "    \\end{cases}\n",
    "    $$\n",
    "avec la notation $X' = \\frac{dX}{dT}$. \n",
    "</div>\n",
    "Remarquez que les équations et les variables R et T sont maintenant adimensionnés : aucune unité ne rentre en jeu dans l'étude de ce problème autre que des unités de type comptage (comme les radians pour le temps : une trajectoire circulaire complète est effectuée par l'astre en un \"temps adimensionné\" $T = 2\\pi$). "
   ]
  },
  {
   "cell_type": "markdown",
   "id": "a1aea10b",
   "metadata": {},
   "source": [
    "### I.2 - Résolution numérique\n",
    "\n",
    "La méthode `odeint()` prend en premier argument une fonction `f(Y,t)`, en deuxième une condition ininitiale `Y0` (valeur de Y au temps initial) et en troisième position une liste de temps `t`. \n",
    "\n",
    "La fonction `f` prend en un argument des coordonnées et dérivées de coordonnées que l'on peut mettre sous forme de liste : par exemple, on peut écrire `Y = [theta, R, Rp]`, une liste contenant la valeur de $\\theta, R$ et $R~'$. \n",
    "\n",
    "Pour qu'elle soit compatible avec `odeint`, la fonction `f` devra retourner la dérivée de Y au temps t considéré et aux coordonnées Y(t) : la fin de la fonction se termine par `return [1/(R**2), Rp, ---- à vous de jouer -----]`.     \n",
    "\n",
    "En choisissant une liste (de type numpy.array) de 1000 valeurs pour le temps `t = np.linspace(0, 2 * np.pi, 1000)`, l'expression `A = odeint(f, [theta0, R0, Rp0], t)` créera un tableau `A` de 1000 lignes et 3 colonnes représentant les valeurs estimées de $\\theta, R$ et $R~'$ à chaque temps présent dans la liste `t`.\n",
    "\n",
    "<div class=\"alert alert-block alert-success\">\n",
    "    <b>Question :</b> <br>\n",
    "    4 - Coder la fonction $f(Y,t)$ puis lui appliquer la méthode odeint en prenant les conditions initiales [0, 1, 0]. Tracez la trajectoire du point matériel. Est-ce bien la trajectoire attendue pour ces conditions initiales ?\n",
    "</div>\n",
    "\n",
    "Vous pourrez tracer les différentes positions du point matériel en utilisant les coordonnées cartésiennes `X = A[:, 1] * np.cos(A[:, 0])` et `Y = A[:, 1] * np.sin(A[:, 0])` et utiliser la ligne de commande `plt.axis('equal')` pour avoir un ratio de 1:1 pour les deux axes. "
   ]
  },
  {
   "cell_type": "code",
   "execution_count": null,
   "id": "645acb8e",
   "metadata": {},
   "outputs": [],
   "source": []
  },
  {
   "cell_type": "code",
   "execution_count": null,
   "id": "7a4125ea",
   "metadata": {},
   "outputs": [],
   "source": []
  },
  {
   "cell_type": "code",
   "execution_count": null,
   "id": "12736931",
   "metadata": {},
   "outputs": [],
   "source": []
  },
  {
   "cell_type": "markdown",
   "id": "241e9e92",
   "metadata": {},
   "source": [
    "L’aire d’un triangle quelconque dont les côtés ont pour longueur a, b, c s’obtient par la formule de Héron d'Alexandrie\n",
    "$𝑆 = \\sqrt{𝑝(𝑝− 𝑎)( 𝑝− 𝑏)(𝑝− 𝑐)}$ où p est le demi-périmètre du triangle.\n",
    "\n",
    "<div class=\"alert alert-block alert-success\">\n",
    "    <b>Questions :</b> <br>\n",
    "    5 - Créer un tableau de valeurs noté D contenant la différence de distance entre deux positions successives (X[i],Y[i]) et (X[i+1],Y[i+1]).<br>\n",
    "    6 - En utilisant la formule de Héron d'Alexandrie et en s'inspirant de la fonction aire ci-dessous, déterminer l'aire balayée pour différentes conditions initiales et pour différents durées (faire varier la valeur finale de t). On fera attention à la taille du tableau de valeurs D par rapport à celle du tableau R = A[:,1]  \n",
    "</div>"
   ]
  },
  {
   "cell_type": "code",
   "execution_count": 2,
   "id": "f8bc3055",
   "metadata": {},
   "outputs": [],
   "source": [
    "def aire(a,b,c):\n",
    "    p=(a+b+c)/2\n",
    "    S=(p*(p-a)*(p-b)*(p-c))**0.5\n",
    "    return S"
   ]
  },
  {
   "cell_type": "code",
   "execution_count": null,
   "id": "255686f8",
   "metadata": {},
   "outputs": [],
   "source": []
  },
  {
   "cell_type": "code",
   "execution_count": null,
   "id": "de72bc58",
   "metadata": {},
   "outputs": [],
   "source": []
  },
  {
   "cell_type": "code",
   "execution_count": null,
   "id": "8b5ca582",
   "metadata": {},
   "outputs": [],
   "source": []
  },
  {
   "cell_type": "raw",
   "id": "862152eb",
   "metadata": {},
   "source": [
    "# Vous pourrez faire des tracés d'aire avec le code ci-dessous pour mieux visulaiser les trajectoires :\n",
    "X_ = np.concatenate((np.array([0]),X,np.array([0]))) #rajoute le centre de la trajectoire au début et à la fin du tableau\n",
    "Y_ = np.concatenate((np.array([0]),Y,np.array([0])))\n",
    "plt.figure()\n",
    "plt.plot(X,Y)\n",
    "plt.fill(X_,Y_,alpha=0.5)\n",
    "plt.axis('equal')\n",
    "plt.show()"
   ]
  },
  {
   "cell_type": "code",
   "execution_count": null,
   "id": "e1e88ff1",
   "metadata": {},
   "outputs": [],
   "source": []
  },
  {
   "attachments": {},
   "cell_type": "markdown",
   "id": "05d67384",
   "metadata": {},
   "source": [
    "## II - Tester la deuxième loi de Kepler avec un satellite artificiel\n",
    "\n",
    "L'adresse suivante permet de suivre en direct la position de nombreux satellites https://www.n2yo.com\n",
    "voici une copie d'écran pour le suivi d'un satellite Américain.\n",
    "![](https://raw.githubusercontent.com/p-maxime/codes_python/master/kepler1.PNG)\n",
    "Voici le suivi de ce satellite pour une durée de 45 min  "
   ]
  },
  {
   "cell_type": "code",
   "execution_count": 3,
   "id": "6e924f1c",
   "metadata": {},
   "outputs": [],
   "source": [
    "## t en s\n",
    "temps=np.array([-2.0,0.0,2.0,4.0,6.0,8.0,10.0,12.0,14.0,15.5,17.0,18.5,\n",
    "            20.0,21.5,23.0,24.5,26.5,28.0,29.5,31.0,32.0,33.0])*60\n",
    "## latitude en degre\n",
    "lat=np.array([-23.84,-22.88,-21.72,-20.31,-18.63,-16.63,-14.27,-11.52,\n",
    "              -8.36,-5.7,-2.83,0.24,3.45,6.75,10.05,13.25,17.2,19.81,22.03,23.84,24.81,25.60])\n",
    "## longitude en degre\n",
    "lon=np.array([61.3,65.0,68.99,73.29,77.93,82.94,88.36,94.20,100.51,105.56,110.89,\n",
    "              116.52,122.45,128.67,135.18,141.93,151.24,158.37,165.53,172.62,177.27,181.81])\n",
    "## altitude en km\n",
    "h=np.array([4345.54,3923.32,3500.69,3080.13,2664.79,2258.66,1866.75,1495.19,1151.40,916.91,706.83,\n",
    "            525.31,376.43,263.92,190.90,159.47,183.73,250.78,357.59,500.16,615.51,743.38])*10**3"
   ]
  },
  {
   "cell_type": "markdown",
   "id": "054b58b2",
   "metadata": {},
   "source": [
    "<script type=\"text/javascript\" src=\"https://www.n2yo.com/js/widget-tracker.js\"></script>"
   ]
  },
  {
   "cell_type": "markdown",
   "id": "d4526cbd",
   "metadata": {},
   "source": [
    "On peut ensuite construire les listes correspondant au rayon (r), à la longitude corrigée de la \n",
    "rotation terrestre (loncr), à la latitude en radians (latr) et enfin aux coordonnées cartésiennes \n",
    "de la position (x,y et z)."
   ]
  },
  {
   "cell_type": "code",
   "execution_count": 4,
   "id": "3c7c07e1",
   "metadata": {},
   "outputs": [],
   "source": [
    "## Rayon terrestre en m\n",
    "Rt=6378.0*10**3\n",
    "## Jour sideral en s\n",
    "Js=1436.066*60\n",
    "## Vitesse angulaire en degre/s\n",
    "w=360/Js\n",
    "## nombre de positions\n",
    "n=len(temps)\n",
    "\n",
    "## initialisations\n",
    "r=np.zeros(n)\n",
    "loncr=np.zeros(n)\n",
    "latr=np.zeros(n)\n",
    "x=np.zeros(n)\n",
    "y=np.zeros(n)\n",
    "z=np.zeros(n)\n",
    "\n",
    "## positions dans referentiel geocentrique en m\n",
    "for i in range(n):\n",
    "## rayon de l'orbite du satellite\n",
    "    r[i]=h[i]+Rt\n",
    "## longitude corrigee de la rotation propre\n",
    "    loncr[i]=(lon[i]+w*temps[i])/180*np.pi\n",
    "## latitude\n",
    "    latr[i]=lat[i]/180*np.pi\n",
    "## coordonnees en m\n",
    "    x[i]=r[i]*np.cos(latr[i])*np.cos(loncr[i])\n",
    "    y[i]=r[i]*np.cos(latr[i])*np.sin(loncr[i])\n",
    "    z[i]=r[i]*np.sin(latr[i])"
   ]
  },
  {
   "cell_type": "markdown",
   "id": "070c2024",
   "metadata": {},
   "source": [
    "On calcule ensuite l’aire balayée par le rayon vecteur grâce à la formule de Héron d’Alexandrie. \n",
    "\n",
    "Pour cela, on va écrire que l’aire balayée par le rayon  vecteur entre les instants i et i+1 est celle d’un triangle de côtés r[i], r[i+1] et d[i], où d est la  liste des distances parcoures entre les instants i et i+1. Pour calculer cette distance, on utilise l’expression de la distance en coordonnées cartésiennes. \n",
    "\n",
    "Attention : chaque élément de cette liste étant une différence calculée entre i et i+1, la taille de la liste est n-1 et non plus n comme pour les listes précédentes. Ainsi, pour l’exploitation graphique, il sera parfois nécessaire d’ôter le dernier élément de certaines listes pour qu’abscisse et ordonnée soient des listes de même taille (par exemple, la liste des temps raccourcis s’obtient via tt=temps[ :-1])"
   ]
  },
  {
   "cell_type": "code",
   "execution_count": 5,
   "id": "4c108c74",
   "metadata": {},
   "outputs": [],
   "source": [
    "## initiation des listes de distances et de temps\n",
    "tt=temps[:-1] # On crée une liste de temps où l'on supprime la dernière valeur, \n",
    "            #pour avoir la bonne taille de liste dans la suite\n",
    "d=np.zeros(n-1) #idem : la liste des distances parcourues entre deux instants \n",
    "                # doit avoir un élément de moins que la liste des positions\n",
    "v=np.zeros(n-1) # idem dans la suite\n",
    "S=np.zeros(n-1)\n",
    "s=np.zeros(n-1)\n",
    "\n",
    "\n",
    "### Fonction de calcul de l'aire \n",
    "### avec formule de Heron\n",
    "def aire(a,b,c):\n",
    "    p=(a+b+c)/2\n",
    "    S=(p*(p-a)*(p-b)*(p-c))**0.5\n",
    "    return S\n",
    "\n",
    "for i in range(0,n-1):\n",
    "    d[i]= ((x[i+1]-x[i])**2+(y[i+1]-y[i])**2+(z[i+1]-z[i])**2)**(1/2) # distances parcourues entre les instants t[i] et t[i+1]\n",
    "    v[i]=d[i]/(temps[i+1]-temps[i]) # vitesse moyenne entre les instants t[i] et t[i+1]\n",
    "    S[i]= aire(r[i],r[i+1],d[i]) # aire balayée estimée entre les instants t[i] et t[i+1]\n",
    "    s[i]=S[i]/(temps[i+1]-temps[i]) # vitesse aréolaire estimée entre les instants t[i] et t[i+1]"
   ]
  },
  {
   "cell_type": "code",
   "execution_count": null,
   "id": "42b13d1c",
   "metadata": {},
   "outputs": [],
   "source": []
  },
  {
   "cell_type": "markdown",
   "id": "8f733504",
   "metadata": {},
   "source": [
    "Voici comment visualiser la vitesse aréolaire (Pour le tracé de la vitesse aréolaire, il faut à nouveau prendre garde à la taille des listes manipulées (c’est l’intérêt de la définition de la fonction mod)), soit utiliser un histogramme de la distribution des valeurs de la vitesse aréolaire, calculée en chaque point."
   ]
  },
  {
   "cell_type": "code",
   "execution_count": 6,
   "id": "070b56d5",
   "metadata": {},
   "outputs": [
    {
     "data": {
      "image/png": "[encoded data removed]",
      "text/plain": [
       "<Figure size 432x288 with 1 Axes>"
      ]
     },
     "metadata": {
      "needs_background": "light"
     },
     "output_type": "display_data"
    }
   ],
   "source": [
    "va=np.polyfit(tt,s,0)\n",
    "mod=0*tt+va\n",
    "\n",
    "plt.plot(tt,s,\"+\")\n",
    "plt.plot(tt,mod,'r-',label='modèle')\n",
    "plt.title(\"Vitesse areolaire en fonction du temps\")\n",
    "plt.xlabel(\"temps en s\")\n",
    "plt.ylabel(\"vitesse areolaire en $m^2/s$\")\n",
    "plt.grid(True)\n",
    "plt.legend()\n",
    "plt.show()"
   ]
  },
  {
   "cell_type": "code",
   "execution_count": 7,
   "id": "a5fa4a7a",
   "metadata": {},
   "outputs": [
    {
     "data": {
      "image/png": "[encoded data removed]",
      "text/plain": [
       "<Figure size 432x288 with 1 Axes>"
      ]
     },
     "metadata": {
      "needs_background": "light"
     },
     "output_type": "display_data"
    },
    {
     "name": "stdout",
     "output_type": "stream",
     "text": [
      "La vitesse aréolaire vaut 3.18847e+10 $m^2/s$\n",
      "Son incertitude-type  vaut 6.1e+06 $m^2/s$\n"
     ]
    }
   ],
   "source": [
    "plt.hist(s, bins='rice')  # La commande 'rice' permet d'optimiser les intervalles d'affichage de l'histogramme\n",
    "plt.title(r\"Histogramme de distribution des vitesse aréolaire (en $m^2/s$)\")\n",
    "plt.show()\n",
    "\n",
    "va = np.mean(s)\n",
    "uva = np.std(s,ddof=1)/np.sqrt(len(s))\n",
    "\n",
    "print(r\"La vitesse aréolaire vaut {:.5e} $m^2/s$\".format(va))\n",
    "print(r\"Son incertitude-type  vaut {:.1e} $m^2/s$\".format(uva))"
   ]
  },
  {
   "cell_type": "markdown",
   "id": "3ecb14d3",
   "metadata": {},
   "source": [
    "<div class=\"alert alert-block alert-success\">\n",
    "    <b>Questions :</b> <br>\n",
    "    7 - La deuxième loi de Kepler est-elle vérifiée ?<br>\n",
    "    8 - Tracer la distance du satellite par rapport au centre de la Terre ainsi que sa vitesse.<br>\n",
    "    9 - Tracer l'énergie mécanique massique du satellite en s'inspirant du code permettant de visualiser la vitesse aréolaire. Conclure.\n",
    "</div>"
   ]
  },
  {
   "cell_type": "code",
   "execution_count": null,
   "id": "b5314076",
   "metadata": {},
   "outputs": [],
   "source": []
  },
  {
   "cell_type": "code",
   "execution_count": null,
   "id": "acfbd276",
   "metadata": {},
   "outputs": [],
   "source": []
  },
  {
   "cell_type": "markdown",
   "id": "918c0b48",
   "metadata": {},
   "source": [
    "## Tester la troisième loi de Kepler\n",
    "\n",
    "Le trou noir supermassif au centre de notre galaxie, la Voie Lactée, correspond à la source \n",
    "Sagittarius A*. La figure suivante montre les trajectoires de quelques étoiles autour de ce trou \n",
    "noir. Sur wikipédia, on peut trouver les paramètres orbitaux de quelques-unes de ces étoiles, \n",
    "vérifier la troisième loi de Képler et ainsi remonter à une estimation de la masse du trou noir \n",
    "central. \n",
    "\n",
    "\n",
    "![](https://raw.githubusercontent.com/p-maxime/codes_python/master/kepler2.PNG)"
   ]
  },
  {
   "cell_type": "markdown",
   "id": "3a0ef50c",
   "metadata": {},
   "source": [
    "Le tableau précédent permet de construire des listes des valeurs de période de révolution T et de demi grand axe a, puis des listes des valeurs de $T^2$ et $a^3$, de  sorte  à  pouvoir  vérifier  dans  un  premier  temps  graphiquement  la \n",
    "troisième loi de Képler :\n",
    "$$\\dfrac{T^2}{a^3} = \\rm constante $$\n",
    "où la constante a pour expression $\\frac{4\\pi^2}{GM}$ avec $M$ la masse de l'astre le plus massif.\n",
    "\n",
    "<div class=\"alert alert-block alert-success\">\n",
    "    <b>Questions :</b> <br>\n",
    "    10 - Tracer $T^2$ en fonction de $a^3$. <br>\n",
    "    11 - Traver le rapport $\\frac{4\\pi^2a^3}{GT^2}$ et en déduire la valeur de la masse du trou noir M avec les incertitudes associées u(M).<br>\n",
    "    12 - Comparez à la valeur tabulée Mt =8,2541 ± 0,0278e+36 kg en utilisant la formule de l'écart normalisé : $$EN = \\dfrac{M - Mt}{\\sqrt{u(M)^2 + u(Mt)^2}}$$\n",
    "</div>"
   ]
  },
  {
   "cell_type": "code",
   "execution_count": null,
   "id": "5650113e",
   "metadata": {},
   "outputs": [],
   "source": []
  },
  {
   "cell_type": "code",
   "execution_count": null,
   "id": "f60506eb",
   "metadata": {},
   "outputs": [],
   "source": []
  }
 ],
 "metadata": {
  "kernelspec": {
   "display_name": "Python 3 (ipykernel)",
   "language": "python",
   "name": "python3"
  },
  "language_info": {
   "codemirror_mode": {
    "name": "ipython",
    "version": 3
   },
   "file_extension": ".py",
   "mimetype": "text/x-python",
   "name": "python",
   "nbconvert_exporter": "python",
   "pygments_lexer": "ipython3",
   "version": "3.7.11"
  }
 },
 "nbformat": 4,
 "nbformat_minor": 5
}
