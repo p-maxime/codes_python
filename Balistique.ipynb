{
 "cells": [
  {
   "cell_type": "markdown",
   "id": "directed-feedback",
   "metadata": {},
   "source": [
    "# TP 20 - Effet des frottements sur la chute d'un point matériel"
   ]
  },
  {
   "cell_type": "markdown",
   "id": "23fa1b19",
   "metadata": {},
   "source": [
    "<div class=\"alert alert-warning\" role=\"alert\">\n",
    "    Le but du TP est d'étudier numériquement la chute d'un objet dans le champ de pesanteur terrestre avec ou sans \n",
    "    frottements. La méthode odeint de la librairie scientifique sera utilisée pour résoudre numériquement une équation \n",
    "    différentielle linéaire ou non.<br>\n",
    "    Régulièrement pendant le TP et à la fin, enregistrez votre production dans Espaces partagés > Devoirs > Physique sous la forme TP20_\"votre nom\".ipynb\n",
    "</div>"
   ]
  },
  {
   "cell_type": "markdown",
   "id": "sitting-steel",
   "metadata": {},
   "source": [
    "Le mouvement de chute se faisant dans un plan, l'étude se fera dans le plan (xOz).\n",
    "\n",
    "Pour utiliser `odeint`, nous devons transformer les deux équations différentielles de second ordre sur chaque axe (x,z) en une équation différentielle du premier ordre du type $Y' = F(Y,t)$ avec F une fonction de $\\mathbb{R}^5 \\rightarrow \\mathbb{R}^4$ et Y un vecteur du type $Y=(v_z, v_x , z, x)$.\n",
    "\n",
    "Pour une chute sans frottements, avec frottements proportionnels à la vitesse ou proportionnels au carré de la vitesse, vous devrez créer des fonctions $F$ différentes. Ce sera l'objet de la partie 2.\n",
    "\n",
    "Pour tester votre fonction, vous pouvez lui appliquer la méthode d'Euler plus compréhensible que la méthode `odeint`. Il faudra comprendre et tester cette méthode avant de passer à `odeint` : ce sera l'objet de la partie 1. \n",
    "\n",
    "La partie 3 concerne une modélisation d'une chute avec frottements de type stokes comme le cas de la chute d'une bille dans du glycerol fait en TP.\n",
    "\n",
    "La partie 4 concerne la modélisation d'une chute d'une balle de tenis comme fait en TP."
   ]
  },
  {
   "cell_type": "code",
   "execution_count": 1,
   "id": "00804845",
   "metadata": {},
   "outputs": [],
   "source": [
    "# Nous aurons besoin des bibliotèques suivantes \n",
    "import numpy as np # pour les tableaux\n",
    "import matplotlib.pyplot as plt # pour tracer les solutions\n",
    "from scipy.integrate import odeint # pour la résolution des ED\n",
    "\n",
    "# Pour le tracer des résultats (sauf sur basthon), décommentez une de ces lignes :\n",
    "#%matplotlib notebook # figures interactives\n",
    "#%matplotlib inline # figures fixes"
   ]
  },
  {
   "cell_type": "markdown",
   "id": "ce759a4e",
   "metadata": {},
   "source": [
    "## 1 - Chute sans frottements avec la méthode d'Euler et le formalisme d'odeint (1h)\n",
    "\n",
    "La méthode d'Euler adaptée à la fonction F et au vecteur Y revient à écrire la procédure suivante : \n",
    "\n",
    "\\begin{align*}\n",
    "Y(t=0) &= Y_0 \\quad &\\text{Conditions initiales}\\\\\n",
    "Y(t+\\Delta t) &= Y(t) + F(Y,t)\\Delta t \\quad &\\Delta t\\text{ le pas de temps choisi}\\\\\n",
    "\\end{align*}\n",
    "\n"
   ]
  },
  {
   "cell_type": "code",
   "execution_count": 2,
   "id": "fd182616",
   "metadata": {},
   "outputs": [],
   "source": [
    "#Méthode d'Euler\n",
    "def Euler(F,Y0,t):\n",
    "    '''\n",
    "    Prend en argument une fonction F, \n",
    "    un tableau de type numpy.array() représentant les conditions initiales Y0 = [vz0, vx0, z0, x0],\n",
    "    et un tableau de type numpy.array() t de temps du type [0, dt, 2dt, 3dt, ..., Ndt].\n",
    "    La fonction vérifie Y' = F(Y,t).\n",
    "    La méthode d'Euler renvoie un tableau A en 2D de type numpy.array() dont les lignes s'écrivent : \n",
    "      Y(t = 0)  , \n",
    "      Y(t = dt) , \n",
    "      Y(t = 2dt), \n",
    "      ...       ,\n",
    "      Y(t = Ndt)\n",
    "    '''\n",
    "    A = np.array([Y0])\n",
    "    for T in t[1:]:\n",
    "        Yp = np.array([A[-1, :]])# Y à t (présent)\n",
    "        dY = np.array([F(A[-1, :], t)])# dY à t\n",
    "        Yf = Yp + dY * t[1]# Y à t+dt (futur)\n",
    "        A = np.concatenate((A, Yf), axis = 0)# ajoute la ligne Ytf à la fin du tableau\n",
    "    return A"
   ]
  },
  {
   "cell_type": "markdown",
   "id": "9114a916",
   "metadata": {},
   "source": [
    "<div class=\"alert alert-block alert-success\">\n",
    "    <b>Questions :</b> <br>\n",
    "    1 - Que signifie l'expression \"[-1, :]\" <br>\n",
    "    2 - Que signifie t[1:] ? Que signifie t[1] ? <br>\n",
    "    3 - Comment obtenir la position z de l'objet au 5ième temps du tableau t à partir du tableau de sortie A ? \n",
    "</div>"
   ]
  },
  {
   "cell_type": "markdown",
   "id": "a4d3ebf5",
   "metadata": {},
   "source": [
    "Réponses : \n",
    "\n",
    "1 - \n",
    "\n",
    "2 - \n",
    "\n",
    "3 -\n"
   ]
  },
  {
   "cell_type": "code",
   "execution_count": null,
   "id": "323a9a06",
   "metadata": {},
   "outputs": [],
   "source": []
  },
  {
   "cell_type": "markdown",
   "id": "1ffafc21",
   "metadata": {},
   "source": [
    "Voici une fonction que peut prendre en argument la fonction `Euler` calculant la position d'un objet en chute libre ainsi que les conditions initiales et le temps de chute."
   ]
  },
  {
   "cell_type": "code",
   "execution_count": 3,
   "id": "585accd9",
   "metadata": {},
   "outputs": [],
   "source": [
    "# constantes physiques\n",
    "g = 9.81 # accélération de la pesanteur\n",
    "\n",
    "# Fonction \"F\" de type chute sans frottements\n",
    "def chutelibre(Y,t):\n",
    "    global g # permet d'introduire une variable définie hors de la fonction\n",
    "    vz, vx, z, x = Y[0], Y[1], Y[2], Y[3]\n",
    "    dvz = -g\n",
    "    dvx = 0\n",
    "    dz = vz\n",
    "    dx = vx\n",
    "    return [dvz, dvx, dz, dx]\n",
    "\n",
    "\n",
    "Tmax = 1 # Temps de chute en secondes\n",
    "Nech = 100 # Échantillonage du temps (pas de temps dt = Tmax/Nech)\n",
    "t = np.linspace(0, Tmax, Nech+1) # tableau de temps de 0 à Tmax avec un pas de temps Tmax/Nech\n",
    "Y0 = np.array([0, 0, 1, 0]) # condition initiales\n"
   ]
  },
  {
   "cell_type": "markdown",
   "id": "3d5b41c4",
   "metadata": {},
   "source": [
    "<div class=\"alert alert-block alert-success\">\n",
    "    <b>Questions :</b> <br>\n",
    "    1 - Comment est orienté l'axe z et x par rapport à l'accélération de la pesanteur ?  <br>\n",
    "    2 - D'après l'expression de Y0, que vaut la vitesse et la position initiale de l'objet suivant les axes x et z ? \n",
    "</div>"
   ]
  },
  {
   "cell_type": "markdown",
   "id": "12d88db5",
   "metadata": {},
   "source": [
    "Réponses : \n",
    "\n",
    "1 - \n",
    "\n",
    "2 - \n"
   ]
  },
  {
   "cell_type": "code",
   "execution_count": null,
   "id": "f5941908",
   "metadata": {},
   "outputs": [],
   "source": []
  },
  {
   "cell_type": "markdown",
   "id": "3ba53328",
   "metadata": {},
   "source": [
    "Voici un exemple d'utilisation de la méthode d'Euler avec la fonction \"F\" de type chute libre et un tracé de l'altitude en fonction du temps. On retrouve visuellement le résultat attendu du type \"$z = -\\frac{1}{2}gt^2$\"  "
   ]
  },
  {
   "cell_type": "code",
   "execution_count": 4,
   "id": "edf9eba9",
   "metadata": {},
   "outputs": [
    {
     "data": {
      "image/png": "[encoded data removed]",
      "text/plain": [
       "<Figure size 432x288 with 1 Axes>"
      ]
     },
     "metadata": {
      "needs_background": "light"
     },
     "output_type": "display_data"
    }
   ],
   "source": [
    "Tableau_a = Euler(chutelibre, Y0, t)\n",
    "\n",
    "plt.figure()\n",
    "plt.plot(t, Tableau_a[:,2])\n",
    "plt.xlabel('Temps (s)')\n",
    "plt.ylabel('Altitude (m)')\n",
    "plt.show()"
   ]
  },
  {
   "cell_type": "markdown",
   "id": "d4b15f87",
   "metadata": {},
   "source": [
    "## 2 - Chuttes avec frottements et utilisation de `odeint` "
   ]
  },
  {
   "cell_type": "markdown",
   "id": "bf05c739",
   "metadata": {},
   "source": [
    "### 2.1 - Comparaison entre `odeint` et Euler\n",
    "Utilisons la méthode `odeint` de la bibliotèque scipy sur l'exemple de chute sans frottements de l'exemple précédent et comparons les deux méthodes visuellement."
   ]
  },
  {
   "cell_type": "code",
   "execution_count": 5,
   "id": "c2b22643",
   "metadata": {},
   "outputs": [
    {
     "data": {
      "image/png": "[encoded data removed]",
      "text/plain": [
       "<Figure size 432x288 with 1 Axes>"
      ]
     },
     "metadata": {
      "needs_background": "light"
     },
     "output_type": "display_data"
    },
    {
     "data": {
      "image/png": "[encoded data removed]",
      "text/plain": [
       "<Figure size 432x288 with 1 Axes>"
      ]
     },
     "metadata": {
      "needs_background": "light"
     },
     "output_type": "display_data"
    }
   ],
   "source": [
    "Tableau_b = odeint(chutelibre, Y0, t)\n",
    "\n",
    "plt.figure()\n",
    "plt.plot(t, Tableau_a[:,2], label = 'Euler')\n",
    "plt.plot(t, Tableau_b[:,2], label = 'odeint')\n",
    "plt.plot(t, Y0[2]-0.5*g*t**2, label = 'solution exacte')\n",
    "plt.xlabel('Temps (s)')\n",
    "plt.ylabel('Altitude (m)')\n",
    "plt.legend()\n",
    "\n",
    "plt.figure()\n",
    "plt.plot(t, Tableau_a[:,2]-Tableau_b[:,2], label = 'Ecart entre Euler et odeint')\n",
    "plt.plot(t, Y0[2]-0.5*g*t**2-Tableau_b[:,2], label = 'Ecart entre odeint et la solution exacte')\n",
    "plt.xlabel('Temps (s)')\n",
    "plt.ylabel(\"Ecart d'altitude (m)\")\n",
    "plt.legend()\n",
    "plt.show()"
   ]
  },
  {
   "cell_type": "markdown",
   "id": "dbd0046d",
   "metadata": {},
   "source": [
    "Un écart de 5 centimètres au bout d'une seconde est visible entre les trajectoires calculées avec la méthode d'Euler et odeint alors qu'un écart de $10^{-11}$ mètres est observé entre la solution exacte et odeint."
   ]
  },
  {
   "cell_type": "markdown",
   "id": "d959dcd1",
   "metadata": {},
   "source": [
    "<div class=\"alert alert-block alert-success\">\n",
    "    <b>Question :</b> <br>\n",
    "    Quels paramètres peut-on modifier pour réduire l'écart entre la solution exacte et la méthode d'Euler ? Quel est le problème lié à cette modification ?\n",
    "</div>"
   ]
  },
  {
   "cell_type": "markdown",
   "id": "6d66c332",
   "metadata": {},
   "source": [
    "Réponse : "
   ]
  },
  {
   "cell_type": "code",
   "execution_count": null,
   "id": "f9db8434",
   "metadata": {},
   "outputs": [],
   "source": []
  },
  {
   "cell_type": "markdown",
   "id": "f50f1ee6",
   "metadata": {},
   "source": [
    "La comparaison entre odeint et Euler nécessite de connaître la solution exacte pour savoir si une méthode donne des résultats éronnés et estimer les erreurs associées. Or c'est justement lorsque la solution exacte n'est pas connue ou pas évidente (équations différentielles non linéaires par exemple) que les méthodes numériques prennent tout leur sens. Comment les utiliser et quantifier nos erreurs sans connaître la solution exacte ? \n",
    "\n",
    "Une première approche consiste à calculer une quantité invariante physiquement comme l'énergie mécanique massique du système. Dans l'exemple de la chute sans frottements étudié précédement, elle s'écrit $e_m = \\frac{1}{2}\\dot{z}^2 + gz$ "
   ]
  },
  {
   "cell_type": "markdown",
   "id": "c582e3f4",
   "metadata": {},
   "source": [
    "<div class=\"alert alert-block alert-success\">\n",
    "    <b>Code :</b> <br>\n",
    "    Tracer l'énergie mécanique massique du système en chute libre en fonction du temps obtenus à partir des méthodes d'Euler et odeint en utilisant les tableaux \"Tableau_a\" et \"Tableau_b\" déjà construits. \n",
    "</div>"
   ]
  },
  {
   "cell_type": "code",
   "execution_count": null,
   "id": "06acd9a2",
   "metadata": {},
   "outputs": [],
   "source": []
  },
  {
   "cell_type": "code",
   "execution_count": null,
   "id": "82e38b81",
   "metadata": {},
   "outputs": [],
   "source": []
  },
  {
   "cell_type": "markdown",
   "id": "c7fd3fc3",
   "metadata": {},
   "source": [
    "### 2.2 Créer les fonctions chute libre avec frottements\n",
    "\n",
    "Dans cette partie, vous devrez créer deux fonctions notées `chute_v` et `chute_v2` prenant en argument un tableau ligne $Y=(v_z, v_x , z, x)$ à un instant t et retournant la dérivée de ce tableau à l'instant t. \n",
    "\n",
    "Les paramètres `a` et `b` introduits représenteront respectivement le paramètre $\\alpha/m$ pour la force en $-\\alpha \\vec{v}$ et $\\beta/m$ pour la force en $-\\beta v\\vec{v}$, $m$ représentant la masse de l'objet."
   ]
  },
  {
   "cell_type": "markdown",
   "id": "ff2e69a6",
   "metadata": {},
   "source": [
    "<div class=\"alert alert-block alert-success\">\n",
    "    <b>Code :</b> <br>\n",
    "    Complétez les fonctions ci-dessous. Demandez au professeur de vérifier.\n",
    "</div>"
   ]
  },
  {
   "cell_type": "raw",
   "id": "ba68b99c",
   "metadata": {},
   "source": [
    "a = 1    # coefficient de frottement massique (force de type Stokes) - exemple arbitraire\n",
    "b = 0.02 # coefficient de frottement massique (force en v^2) - exemple arbitraire (type balle de tennis)\n",
    "\n",
    "# Chute avec frottements proportionnels à la vitesse (type stokes)\n",
    "def chute_v(Y,t):\n",
    "    global g,a\n",
    "    vz, vx, z, x=Y[0], Y[1], Y[2], Y[3]\n",
    "    dvz = ...\n",
    "    dvx = ...\n",
    "    dz  = ...\n",
    "    dx  = ...\n",
    "    return [dvz, dvx, dz, dx]\n",
    "\n",
    "# Chute avec frottements proportionnels au carré de la vitesse \n",
    "def chute_v2(Y,t):\n",
    "    global g,b\n",
    "    vz, vx, z, x = Y[0], Y[1], Y[2], Y[3]\n",
    "    dvz = -g -b*np.sqrt(vx**2+vz**2)*vz\n",
    "    dvx = ...\n",
    "    dz  = ...\n",
    "    dx  = ...\n",
    "    return [dvz, dvx, dz, dx]\n"
   ]
  },
  {
   "cell_type": "code",
   "execution_count": null,
   "id": "0e45add1",
   "metadata": {},
   "outputs": [],
   "source": []
  },
  {
   "cell_type": "code",
   "execution_count": null,
   "id": "fe15399d",
   "metadata": {},
   "outputs": [],
   "source": []
  },
  {
   "cell_type": "markdown",
   "id": "91002d46",
   "metadata": {},
   "source": [
    "<div class=\"alert alert-block alert-success\">\n",
    "    <b>Code :</b> <br>\n",
    "    Appliquer la méthode odeint sur ces fonctions en utilisant les mêmes conditions initiales Y0 et le tableau des temps t.\n",
    "</div>"
   ]
  },
  {
   "cell_type": "markdown",
   "id": "9669d6d5",
   "metadata": {},
   "source": [
    "Les tableaux récupérés seront notés `Tableau_c` pour `chute_v` et `Tableau_d` pour `chute_v2`."
   ]
  },
  {
   "cell_type": "code",
   "execution_count": null,
   "id": "ec04ef42",
   "metadata": {},
   "outputs": [],
   "source": []
  },
  {
   "cell_type": "code",
   "execution_count": null,
   "id": "c3d7fbb1",
   "metadata": {},
   "outputs": [],
   "source": []
  },
  {
   "cell_type": "markdown",
   "id": "0910683c",
   "metadata": {},
   "source": [
    "<div class=\"alert alert-block alert-success\">\n",
    "    <b>Code :</b> <br>\n",
    "    En utilisant a = 1 : <br>\n",
    "    1 - Tracer l'altitude en fonction du temps d'un objet soumis à des frottements proportionnels à la vitesse.<br>\n",
    "    2 - Tracer la vitesse verticale en fonction du temps d'un objet soumis à des frottements proportionnels à la vitesse.<br>\n",
    "    3 - Superposer la solution exacte de la vitesse verticale de ce même objet.<br>\n",
    "    4 - Tracer l'énergie mécanique massique du système en fonction du temps. \n",
    "</div>"
   ]
  },
  {
   "cell_type": "code",
   "execution_count": null,
   "id": "1f3fe1c4",
   "metadata": {},
   "outputs": [],
   "source": []
  },
  {
   "cell_type": "code",
   "execution_count": null,
   "id": "e4e51c47",
   "metadata": {},
   "outputs": [],
   "source": []
  },
  {
   "cell_type": "markdown",
   "id": "14a69cc1",
   "metadata": {},
   "source": [
    "<div class=\"alert alert-block alert-success\">\n",
    "    <b>Question :</b> <br>\n",
    "    La méthode odeint est-elle mise en défaut ?\n",
    "</div>"
   ]
  },
  {
   "cell_type": "markdown",
   "id": "c6187392",
   "metadata": {},
   "source": [
    "Réponse : "
   ]
  },
  {
   "cell_type": "markdown",
   "id": "69922fe0",
   "metadata": {},
   "source": [
    "<div class=\"alert alert-block alert-success\">\n",
    "    <b>Code :</b> <br>\n",
    "    En utilisant b = 0.02 : <br>\n",
    "    1 - Tracez l'altitude de l'objet pour une force de frottement proportionnel au carré de la vitesse.<br>\n",
    "    2 - Superposer la courbe de l'altitude en fonction du temps pour une chute sans frottements.<br>\n",
    "    3 - Tracer la différence d'altitude en fonction du temps pour ces deux situations.\n",
    "</div>"
   ]
  },
  {
   "cell_type": "code",
   "execution_count": null,
   "id": "390707e4",
   "metadata": {},
   "outputs": [],
   "source": []
  },
  {
   "cell_type": "code",
   "execution_count": null,
   "id": "af07357f",
   "metadata": {},
   "outputs": [],
   "source": []
  },
  {
   "cell_type": "code",
   "execution_count": null,
   "id": "fcff1b4c",
   "metadata": {},
   "outputs": [],
   "source": []
  },
  {
   "cell_type": "markdown",
   "id": "22d4ce5c",
   "metadata": {},
   "source": [
    "## 3 - Chute d'une bille dans du glycérol (20 min)"
   ]
  },
  {
   "cell_type": "markdown",
   "id": "5652e08a",
   "metadata": {},
   "source": [
    "<div class=\"alert alert-block alert-success\">\n",
    "    <b>Code et questions :</b> <br>\n",
    "    Adaptez les lignes de code établies pour simuler la chute d'une bille dans du glycérol (expérience de TP). On prendra une masse volumique de bille de 7 tonnes par mètre cube, une viscosité de 1,5 Pa.s et une densité du glycérol de 1,2. Vous justifierez quantitativement la phrase énoncé par le professeur en TP : \" la vitesse limite est atteinte au bout de quelques centimètres si la bille est lachée sans vitesse initiale \".  \n",
    "</div>"
   ]
  },
  {
   "cell_type": "code",
   "execution_count": null,
   "id": "bac2aac0",
   "metadata": {},
   "outputs": [],
   "source": []
  },
  {
   "cell_type": "code",
   "execution_count": null,
   "id": "cbc2b1c3",
   "metadata": {},
   "outputs": [],
   "source": []
  },
  {
   "cell_type": "code",
   "execution_count": null,
   "id": "d5b81876",
   "metadata": {},
   "outputs": [],
   "source": []
  },
  {
   "cell_type": "code",
   "execution_count": null,
   "id": "01585673",
   "metadata": {},
   "outputs": [],
   "source": []
  },
  {
   "cell_type": "markdown",
   "id": "b76530c1",
   "metadata": {},
   "source": [
    "## 4 - Chute d'une balle de tennis (30 min)"
   ]
  },
  {
   "cell_type": "markdown",
   "id": "5859cc23",
   "metadata": {},
   "source": [
    "Pour information, voici le calcul du coefficient de frottement pour une balle de tennis à partir de valeurs tabulées. Le résultat est proche de la valeur employée de $\\rm0,02~m^{-1}$"
   ]
  },
  {
   "cell_type": "code",
   "execution_count": 6,
   "id": "9697dd2f",
   "metadata": {},
   "outputs": [
    {
     "data": {
      "text/plain": [
       "0.020707229261700936"
      ]
     },
     "execution_count": 6,
     "metadata": {},
     "output_type": "execute_result"
    }
   ],
   "source": [
    "#Calcul du coefficient de frottement massique d'une balle de tennis\n",
    "\n",
    "cx_tennis = 0.6 # coefficient de trainé d'une balle (sans dimensions)\n",
    "D_tennis = 0.066 # diamètre d'une balle (m)\n",
    "S_tennis = np.pi * D_tennis ** 2 / 4 # surface d'une balle\n",
    "m_tennis = 0.057 # masse d'une balle (kg)\n",
    "rho = 1.15 # masse volumique air (kg/m^3)\n",
    "b_tennis = 0.5 * rho * cx_tennis * S_tennis / m_tennis\n",
    "b_tennis"
   ]
  },
  {
   "cell_type": "markdown",
   "id": "ed40a407",
   "metadata": {},
   "source": [
    "Aide : exemple d'utilisation de numpy.polyfit() conjointement avec numpy.poly1d() : "
   ]
  },
  {
   "cell_type": "code",
   "execution_count": 7,
   "id": "76f1fb1e",
   "metadata": {},
   "outputs": [
    {
     "data": {
      "image/png": "[encoded data removed]",
      "text/plain": [
       "<Figure size 432x288 with 1 Axes>"
      ]
     },
     "metadata": {
      "needs_background": "light"
     },
     "output_type": "display_data"
    },
    {
     "name": "stdout",
     "output_type": "stream",
     "text": [
      "4.000000000000003 -3.0000000000000373 2.0000000000000737\n"
     ]
    }
   ],
   "source": [
    "X = np.array([0,1,2,3,4,5,6,7,8,9,10])\n",
    "Y = 2 - 3 * np.array([0,1,2,3,4,5,6,7,8,9,10]) + 4 * np.array([0,1,2,3,4,5,6,7,8,9,10])**2\n",
    "fit = np.polyfit(X,Y,2)\n",
    "fit_func = np.poly1d(fit)\n",
    "plt.figure()\n",
    "plt.plot(X, Y, '+', label = \"données\")\n",
    "plt.plot(X, fit_func(X), label = \"modèle\")\n",
    "plt.legend()\n",
    "plt.show()\n",
    "print(fit[0],fit[1],fit[2])"
   ]
  },
  {
   "cell_type": "markdown",
   "id": "f77bf928",
   "metadata": {},
   "source": [
    "<div class=\"alert alert-block alert-success\">\n",
    "    <b>Code et questions :</b> <br>\n",
    "    1 - Simulez l'expérience de la chute d'une balle de tennis sans vitesse initiale sur une hauteur de 2 mètres environ puis tracer l'altitude en fonction du temps. <br>\n",
    "    2 - Utilisez la fonction <a href=https://numpy.org/doc/stable/reference/generated/numpy.polyfit.html> polyfit </a> de la bibliothèque numpy pour modéliser la chute comme en TP, c'est-à-dire avec un modèle sans frottements du type z = a*t**2 + b*t + c. Utilisez la fonction poly1d de numpy pour superposer le modèle à la simulation. Conclure.  \n",
    "</div>"
   ]
  },
  {
   "cell_type": "code",
   "execution_count": null,
   "id": "489eade6",
   "metadata": {},
   "outputs": [],
   "source": []
  },
  {
   "cell_type": "code",
   "execution_count": null,
   "id": "e3191584",
   "metadata": {},
   "outputs": [],
   "source": []
  },
  {
   "cell_type": "code",
   "execution_count": null,
   "id": "3ab70dde",
   "metadata": {},
   "outputs": [],
   "source": []
  },
  {
   "cell_type": "code",
   "execution_count": null,
   "id": "0437f1a5",
   "metadata": {},
   "outputs": [],
   "source": []
  },
  {
   "cell_type": "code",
   "execution_count": null,
   "id": "531e263c",
   "metadata": {},
   "outputs": [],
   "source": []
  },
  {
   "cell_type": "code",
   "execution_count": null,
   "id": "2e7d66b8",
   "metadata": {},
   "outputs": [],
   "source": []
  },
  {
   "cell_type": "code",
   "execution_count": null,
   "id": "4a1d74f0",
   "metadata": {},
   "outputs": [],
   "source": []
  },
  {
   "cell_type": "markdown",
   "id": "877a7f74",
   "metadata": {},
   "source": [
    "Ce dernier résultat est frappant et mérite d'être relevé : la constante g estimée est en dessous de la réalité (incertitudes prises en compte) alors que le modèle de chute libre sans frottements semble adapté à la simulation. \n",
    "\n",
    "Vous retiendrez qu'un modèle adapté ne veut pas dire qu'il correspond à la réalité. Un modèle peut être seulement invalidé par une expérience : la réalité nous échappera toujours. \n",
    "\n",
    "Une citation sur ce thème :\n",
    "« Les concepts physiques sont des créations libres de l’esprit humain et ne sont pas, comme on pourrait le croire, uniquement déterminés par le monde extérieur. Dans l’effort que nous faisons pour comprendre le monde, nous ressemblons quelque peu à l’homme qui essaie de comprendre le mécanisme d’une montre fermée. Il voit le cadran et les aiguilles en mouvement, il entend le tic-tac, mais il n’a aucun moyen d’ouvrir le boîtier. S’il est ingénieux il pourra se former quelque image du mécanisme, qu’il rendra responsable de tout ce qu’il observe, mais il ne sera jamais sûr que son image soit la seule capable d’expliquer ses observations. Il ne sera jamais en état de comparer son image avec le mécanisme réel, et il ne peut même pas se représenter la possibilité ou la signification d’une telle comparaison. Mais le chercheur croit certainement qu’à mesure que ses connaissances s’accroîtront, son image de la réalité deviendra de plus en plus simple et expliquera des domaines de plus en plus étendus de ses impressions sensibles. Il pourra aussi croire à l’existence d’une limite idéale de la connaissance que l’esprit humain peut atteindre. Il pourra appeler cette limite idéale la vérité objective. » (Albert Einstein)"
   ]
  }
 ],
 "metadata": {
  "kernelspec": {
   "display_name": "Python 3 (ipykernel)",
   "language": "python",
   "name": "python3"
  },
  "language_info": {
   "codemirror_mode": {
    "name": "ipython",
    "version": 3
   },
   "file_extension": ".py",
   "mimetype": "text/x-python",
   "name": "python",
   "nbconvert_exporter": "python",
   "pygments_lexer": "ipython3",
   "version": "3.7.11"
  }
 },
 "nbformat": 4,
 "nbformat_minor": 5
}
