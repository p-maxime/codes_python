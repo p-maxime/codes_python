{
 "cells": [
  {
   "cell_type": "markdown",
   "id": "b319ead2",
   "metadata": {},
   "source": [
    "# Mesure d'un temps au chronomètre\n",
    "\n",
    "### Objectif  \n",
    "Nous allons chercher à quantifier l'impact qu'à un expérimentateur sur un processus de mesure de temps, notament déterminer l'incertitude-type liée à celle-ci. "
   ]
  },
  {
   "attachments": {
    "image.png": {
     "image/png": "[encoded data removed]"
    }
   },
   "cell_type": "markdown",
   "id": "e7164035",
   "metadata": {},
   "source": [
    "\n",
    "\n",
    "<div class=\"alert alert-block alert-info\">\n",
    "    <big><b> Consignes </b></big> \n",
    "\n",
    "<ol>\n",
    "\t<li> Rendez-vous sur le site https://chronometre.minuteur-en-ligne.fr/chronometre-temps-intermediaires.</li>\n",
    "\t<li> Cliquez sur \"Démarrer\" puis, toutes les 2 secondes, cliquez sur mémoriser (le but est d'être le plus \"précis\" possible).</li>\n",
    "\t<li> Au bout de 2 minutes cliquez sur arrêter. </li>\n",
    "\t<li> Vérifiez que vous n'avez pas fait de temps intermédiaires supérieurs à 3 secondes ou inférieurs à 1 seconde, sinon recommencez. Le dernier temps peut être supprimé si nécessaire.</li>\n",
    "\t<li> Téléchargez au format .txt votre mesure.</li>\n",
    "    <li> Renommez ce fichier en << chrono_prenom.txt >>.</li>\n",
    "\t<li> Importez ce fichier dans le dossier de travail (cf image ci-dessous).</li>\n",
    "\t<li> Lancez les lignes de code suivantes en suivant les consignes.</li>\n",
    "</ol>\n",
    "</div>\n",
    "\n",
    "![image.png](attachment:image.png)"
   ]
  },
  {
   "cell_type": "markdown",
   "id": "9b278226",
   "metadata": {},
   "source": [
    "**Importation des bibliothèques**\n",
    "\n",
    "Executez les commandes ci-dessous"
   ]
  },
  {
   "cell_type": "code",
   "execution_count": 1,
   "id": "0a7ddd38",
   "metadata": {},
   "outputs": [],
   "source": [
    "import numpy as np # bibliothèque \"scientifique\" permettant l'utilisation des fonctions classiques, des tableaux, ...\n",
    "import numpy.random as rd # génère des nombres aléatoires suivant une certaine distribution\n",
    "import pandas as pd # gestion des données (import de tableurs csv) \n",
    "#import datetime # gestion des temps\n",
    "import matplotlib.pyplot as plt"
   ]
  },
  {
   "cell_type": "markdown",
   "id": "c69844a9",
   "metadata": {},
   "source": [
    "**Importation de votre fichier** \n",
    "\n",
    "Renommez votre fichier de mesure en \"chrono_prenom.txt\" puis renommez dans la cellule ci-dessous \"chrono_1.txt\" en \"chrono_prenom.txt\". "
   ]
  },
  {
   "cell_type": "code",
   "execution_count": 2,
   "id": "384f961b",
   "metadata": {},
   "outputs": [],
   "source": [
    "File = pd.read_csv(r\"chrono_1.txt\", delimiter=\"\\t\", header = None) # récupération du fichier txt (3ème colonne temps)\n",
    "#File = pd.read_csv(r'.\\chronometre\\chrono_2s_b.txt', delimiter=\"\\t\", header = None) # récupération du fichier txt (3ème colonne temps)\n",
    "temps = File.to_numpy() # fichier converti en tableau de chaîne de caractères (format \"hh:mm:ss.xxx\")\n",
    "\n",
    "Dt = [] #Liste des intervalles de temps mesurées toutes les 2 secondes    \n",
    "for i in range(np.size(temps,0)-1):\n",
    "    t = temps[i,1] #récupération de la colonne des temps en format \"hh:mm:ss.xxx\"\n",
    "    # conversion en millisecondes : \n",
    "    # des minutes : mm*60*1000\n",
    "    # des secondes : + ss*1000\n",
    "    # des millisecondes : + xxx\n",
    "    Dt.append(float(t[3:5])*60*1000+float(t[6:8])*1000+float(t[9:13]))     "
   ]
  },
  {
   "cell_type": "markdown",
   "id": "e21ebc96",
   "metadata": {},
   "source": [
    "Le code que vous avez lancé dans la cellule du dessus permet d'importer votre fichier de mesure"
   ]
  },
  {
   "cell_type": "markdown",
   "id": "71ed2774",
   "metadata": {},
   "source": [
    "**Mesure de l'intervalle de temps moyen et écart type de ce processus de mesure**\n",
    "\n",
    "Executez la cellule ci-dessous et notez les valeurs affichées par la commande print(). "
   ]
  },
  {
   "cell_type": "code",
   "execution_count": 3,
   "id": "55f7ccc9",
   "metadata": {},
   "outputs": [
    {
     "name": "stdout",
     "output_type": "stream",
     "text": [
      "Vous avez effectué N = 60 mesures d'intervalles de temps\n",
      "La valeur moyenne des durées enregistrées notée Dtm est de 2000.9 milisecondes\n",
      "L'écart-type expérimental des durées enregistrées est de 94.2 milisecondes\n",
      "L'incertitude-type sur une durée Dt censé être de 2 secondes est u(Dt) = 0.094 s\n",
      "Est associée, à la valeur moyenne des durées enregistrées Dtm, une incertite-type : u(Dtm) = 0.012 s\n"
     ]
    }
   ],
   "source": [
    "Dtm = np.mean(Dt) # Moyenne de la série d'observations.\n",
    "ecart_type = np.std(Dt,ddof=1) # Écart-type de la série d'observations. ddof : degrés de liberté => calcul de l'écart type expérimental (et pas \"mathématique\")\n",
    "\n",
    "print(\"Vous avez effectué N = {:.0f} mesures d'intervalles de temps\".format(len(Dt)))\n",
    "print(\"La valeur moyenne des durées enregistrées notée Dtm est de {:.1f} milisecondes\".format(Dtm))\n",
    "print(\"L'écart-type expérimental des durées enregistrées est de {:.1f} milisecondes\".format(ecart_type))\n",
    "print(\"L'incertitude-type sur une durée Dt censé être de 2 secondes est u(Dt) = {:.2} s\".format(ecart_type*1e-3))\n",
    "print(\"\"\"Est associée, à la valeur moyenne des durées enregistrées Dtm, une incertite-type : u(Dtm) = {:.2} s\"\"\".format(ecart_type*1e-3/np.sqrt(len(Dt))))"
   ]
  },
  {
   "cell_type": "markdown",
   "id": "b47d8fa0",
   "metadata": {},
   "source": [
    "**Tracé des différentes mesures**\n",
    "\n",
    "Lancez le code ci-dessous et visualisez : \n",
    " + l'écart-type (double flèche dont la taille correspond à sa valeur, cf cellule précédente) par rapport à la répartition de vos observations (chaque trait correspond à une observation, il y en a N, cf cellule précédente),\n",
    " + comment est placée la moyenne des N observations (trait rouge normalement proche de 2000 ms)."
   ]
  },
  {
   "cell_type": "code",
   "execution_count": 4,
   "id": "3418c193",
   "metadata": {
    "scrolled": true
   },
   "outputs": [
    {
     "data": {
      "image/png": "[encoded data removed]",
      "text/plain": [
       "<Figure size 720x144 with 1 Axes>"
      ]
     },
     "metadata": {
      "needs_background": "light"
     },
     "output_type": "display_data"
    }
   ],
   "source": [
    "plt.figure(figsize = (10,2)) \n",
    "plt.tick_params(left = False, labelleft = False)\n",
    "plt.plot((Dt,Dt),(0,1), 'blue')\n",
    "plt.plot((Dtm,Dtm),(0,1), 'red', lw=4)\n",
    "plt.annotate('',xy=(Dtm-ecart_type,0.5),xytext=(Dtm,0.5), arrowprops=dict(arrowstyle='<->',lw=2))\n",
    "plt.annotate('',xy=(Dtm,0.5),xytext=(Dtm+ecart_type,0.5), arrowprops=dict(arrowstyle='<->',lw=2))\n",
    "plt.xlabel('Ecart de temps (millisecondes)')\n",
    "plt.show()"
   ]
  },
  {
   "cell_type": "markdown",
   "id": "f88c8edc",
   "metadata": {},
   "source": [
    "Le trai rouge représente la valeur moyenne ``Dtm`` de votre processus de mesure et chaque trai bleu une mesure unique.\n",
    "Les flèches représentent l'écart type ``ecart_type`` (une estimation de sa valeur) qui correspond à la formule :\n",
    "$$\\sigma = \\sqrt{\\dfrac{\\sum_{n=1}^N(x_i-\\overline{x})^2}{N-1}}$$\n",
    "où $\\sigma$ est ``ecart_type``, $\\overline{x}$ est ``Dtm``, $x_i$ correspond à la i-ème valeur de la liste ``Dt`` et N est la taille de la liste ``Dt``.\n",
    "Une autre représentation est l'histogramme, ce qui permet de mieux visualiser l'ensemble de vos mesures. Pour cela, lancez la cellule ci-dessous :"
   ]
  },
  {
   "cell_type": "code",
   "execution_count": 5,
   "id": "5eae9251",
   "metadata": {
    "scrolled": false
   },
   "outputs": [
    {
     "data": {
      "image/png": "[encoded data removed]",
      "text/plain": [
       "<Figure size 720x432 with 1 Axes>"
      ]
     },
     "metadata": {
      "needs_background": "light"
     },
     "output_type": "display_data"
    }
   ],
   "source": [
    "#tracé d'un histogramme de la différence des temps (doit être normalement centré sur 0) \n",
    "plt.figure(figsize = (10,6))    \n",
    "num, bins, patches = plt.hist(Dt,range=(np.min(Dt)*0.9,np.max(Dt)*1.1),bins=30,label='Moyenne = {:.{:}} s, Écart type = {:.2} s'.format(np.mean(Dt)*1e-3,len(\"{:.2}\".format(np.std(Dt,ddof=1)*1e-3))-1,np.std(Dt,ddof=1)*1e-3))\n",
    "plt.plot((Dtm,Dtm),(0,max(num)),'red',lw=4)\n",
    "plt.annotate('',xy=(Dtm-ecart_type,max(num)*0.61),xytext=(Dtm,max(num)*0.61), arrowprops=dict(arrowstyle='<->', lw=2))\n",
    "plt.annotate('',xy=(Dtm,max(num)*0.61),xytext=(Dtm+ecart_type,max(num)*0.61), arrowprops=dict(arrowstyle='<->', lw=2))\n",
    "plt.xlabel('Ecart de temps (millisecondes)')\n",
    "plt.ylabel('Nombre des écarts de temps situé dans un intervalle donné')\n",
    "plt.legend()\n",
    "plt.show()\n"
   ]
  },
  {
   "cell_type": "markdown",
   "id": "39ae3333",
   "metadata": {},
   "source": [
    "Vous pouvez changer la taille des intervales des écarts de temps en changeant la valeur du paramètre `bins` dans la fonction `plt.hist()`"
   ]
  },
  {
   "cell_type": "code",
   "execution_count": null,
   "id": "5c7d1034",
   "metadata": {},
   "outputs": [],
   "source": []
  },
  {
   "cell_type": "markdown",
   "id": "f898fb61",
   "metadata": {},
   "source": [
    "### Cours \n",
    "#### Propriétés \n",
    "Soit $X$ la notation pour la grandeur à mesurer, $\\overline{x}$ la valeur moyenne de $N$ observations. La i-ème observation est notée $x_i$. L'incertitude-type d'$\\textbf{une seule}$ obseration est notée $u(X)$. Les deux propriétés suivantes sont supposées vrai en physique :\n",
    " + L'incertitude d'$\\textbf{une seule}$ obseration $u(X)$ vaut l'écart type expérimental $\\sigma$ des N observations.\n",
    " + L'incertitude-type associée à la moyenne $u(\\overline{x})$ vérifie $u(\\overline{x}) = \\dfrac{\\sigma}{\\sqrt{N}}$\n",
    " \n",
    "#### Conventions \n",
    "L'écriture d'une valeur $\\overline{x}$ d'une grandeur $X$ mesurée en physique expérimentale se fait comme suit :\n",
    "+ Ne noter que les deux premiers chiffres significatifs du résultat $u(\\overline{x})$.\n",
    "+ Ne noter que les chiffres de \\overline{x} qui ont une puissance de 10 supérieure ou égale à la puissance de 10 du deuxième chiffre significatif de $u(\\overline{x})$.\n",
    "\n",
    "Exemple : Un processus de mesure d'une longueur donne comme valeur moyenne brute : $$\\rm \\overline{\\ell} = 0,123456\\,m;\\, u(\\overline{\\ell}) = 0,0112\\,m.$$ L'écriture correcte du résultat serait : $$\\rm \\overline{\\ell} = 0,123\\,m;\\, u(\\overline{\\ell}) = 0,011\\,m$$ "
   ]
  },
  {
   "cell_type": "markdown",
   "id": "1849404c",
   "metadata": {},
   "source": [
    "<div class=\"alert alert-block alert-success\">\n",
    "    <big><b> Questions </b></big> <br>\n",
    "On note $\\Delta t$ la durée à mesurer et $\\overline{\\Delta t}$ la valeur moyenne des $N$ observations.\n",
    "<ol>\n",
    "\t<li> Quel est la valeur moyenne des durées obtenues par votre processus de mesure ? Que vaut l'incertitude-type d'$\\textbf{une seule}$ observation ? </li>\n",
    "    <li> Notez le résultat de votre mesure en respectant la forme $\\overline{\\Delta t} = ... ; u(\\overline{\\Delta t}) = ... $ où $u(\\overline{\\Delta t})$ représente l'incertitude-type de la mesure de $\\textbf{la moyenne}$ des intervalles enregistrées $\\overline{\\Delta t}$, soit l'écart-type (qui est aussi l'incertitude-type d'$\\textbf{une seule}$ observation $u(\\Delta t)$ divisé par la racine carré du nombre de valeurs enregistrées $$u(\\overline{\\Delta t}) = \\dfrac{u(\\Delta t)}{\\sqrt{N}}$$. </li>\n",
    "</ol>\n",
    "</div>"
   ]
  },
  {
   "cell_type": "markdown",
   "id": "032e6c1e",
   "metadata": {},
   "source": [
    "Réponse Q1 : "
   ]
  },
  {
   "cell_type": "markdown",
   "id": "99551d9d",
   "metadata": {},
   "source": [
    "Réponse Q2 :"
   ]
  },
  {
   "cell_type": "markdown",
   "id": "5276f8b0",
   "metadata": {},
   "source": [
    "### Génerer l'équivalent de 100000 observations de durées\n",
    "\n",
    "Réalisez maintenant 100000 observations de durées de 2 secondes au chronomètre. Stop ! Ne le faite pas, cela vous prendrait plus de 5 heures... N'y-a-t'il pas un autre moyen ?\n",
    "\n",
    "Un moyen utilisé pour générer un grand nombre d'observations en science est de simuler un processus de mesure à partir d'un échantillon d'observations. Les 59 ou 60 observations que vous avez faites vont servir à simuler un ensemble plus grand d'observations que *vous auriez pu* effectuer.\n",
    "\n",
    "La fonction `rd.normal()` ci-dessous permet de générer un ensemble d'observations typiques d'un expérimentateur (appelé *loi de distribution normale*) tel que la valeur moyenne soit ``Dtm`` (variable déjà crée à ce stade), l'écart type ``ecart_type`` (idem) et le nombre d'observations du nombre que vous voulez (ici `100000`). "
   ]
  },
  {
   "cell_type": "code",
   "execution_count": 6,
   "id": "88c14626",
   "metadata": {},
   "outputs": [
    {
     "data": {
      "image/png": "[encoded data removed]",
      "text/plain": [
       "<Figure size 864x432 with 1 Axes>"
      ]
     },
     "metadata": {
      "needs_background": "light"
     },
     "output_type": "display_data"
    }
   ],
   "source": [
    "Dt_MC = rd.normal(Dtm,ecart_type,100000) \n",
    "Dtm_MC = np.mean(Dt_MC)\n",
    "ecart_type_MC = np.std(Dt_MC,ddof=1)\n",
    "plt.figure(figsize=(12,6))   \n",
    "num, bins, patches = plt.hist(Dt_MC,range=(np.min(Dt)*0.9,np.max(Dt)*1.1),bins=40,label='Moyenne = {:.1f} ms, Std = {:.2} ms'.format(Dtm_MC,ecart_type_MC))\n",
    "plt.plot((Dtm_MC,Dtm_MC),(0,max(num)),'red',lw=4)\n",
    "plt.annotate('',xy=(Dtm_MC-ecart_type_MC,max(num)*0.61),xytext=(Dtm_MC,max(num)*0.61), arrowprops=dict(arrowstyle='<->', lw=2))\n",
    "plt.annotate('',xy=(Dtm_MC,max(num)*0.61),xytext=(Dtm_MC+ecart_type_MC,max(num)*0.61), arrowprops=dict(arrowstyle='<->', lw=2))\n",
    "plt.xlabel('Ecart de temps (millisecondes)')\n",
    "plt.ylabel('Nombre des écarts de temps situé dans un intervalle donné')\n",
    "plt.legend()\n",
    "plt.show()"
   ]
  },
  {
   "cell_type": "markdown",
   "id": "0603fd00",
   "metadata": {},
   "source": []
  }
 ],
 "metadata": {
  "kernelspec": {
   "display_name": "Python 3 (ipykernel)",
   "language": "python",
   "name": "python3"
  },
  "language_info": {
   "codemirror_mode": {
    "name": "ipython",
    "version": 3
   },
   "file_extension": ".py",
   "mimetype": "text/x-python",
   "name": "python",
   "nbconvert_exporter": "python",
   "pygments_lexer": "ipython3",
   "version": "3.9.12"
  }
 },
 "nbformat": 4,
 "nbformat_minor": 5
}
