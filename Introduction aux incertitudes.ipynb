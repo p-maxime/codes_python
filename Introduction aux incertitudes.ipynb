{
 "cells": [
  {
   "cell_type": "markdown",
   "id": "0e99652c",
   "metadata": {},
   "source": [
    "# TP n°2 - Mesure d'une période d'oscillation d'un pendule\n",
    "\n",
    "### Objectif"
   ]
  },
  {
   "cell_type": "markdown",
   "id": "31faf64f",
   "metadata": {},
   "source": [
    "L'objectif de ce document est de comprendre la variabilité d'une mesure en physique-chimie. Nous introduirons les outils d'**écart-type** et d'**incertitude-type** ainsi que l'**écart normalisé** ou **z-score**. \n",
    "\n",
    "\n",
    "Prenons l'exemple d'un pendule de longueur $l$ donc vous souhaitez mesurer la période $T$. \n",
    "\n",
    "<center><img src=\"https://upload.wikimedia.org/wikipedia/commons/d/d2/Pendulum.svg\" alt=\"\" width=\"400\" /></a></center>"
   ]
  },
  {
   "cell_type": "markdown",
   "id": "79528ff9",
   "metadata": {},
   "source": [
    "## 5 mesures"
   ]
  },
  {
   "cell_type": "markdown",
   "id": "3ced3814",
   "metadata": {},
   "source": [
    "Effectuez 5 mesures de la période d'oscillation d'un pendule simple. Utilisez un chronomètre (en ligne ou sur votre portable) et relancer le pendule à chaque observation. N'écartez pas trop la masse de sa position initiale (l'angle que fait le fil avec la verticale doit être de l'ordre d'une dizaine de degrés).  "
   ]
  },
  {
   "cell_type": "code",
   "execution_count": 1,
   "id": "2e76427f",
   "metadata": {},
   "outputs": [],
   "source": [
    "#importation des bibliothèques\n",
    "import matplotlib.pyplot as plt\n",
    "import numpy as np\n",
    "import numpy.random as rd  "
   ]
  },
  {
   "cell_type": "markdown",
   "id": "27b95aa4",
   "metadata": {},
   "source": [
    "Remplacez les valeurs de la liste ci-dessous par vos valeurs (n'oubliez pas les virgules, les crochets et les parenthèses). Cette liste est ensuite convertie en tableau par la fonction array() de la bibliothèque numpy. `tabT` est le tableau des périodes observées. "
   ]
  },
  {
   "cell_type": "code",
   "execution_count": 2,
   "id": "c96fbf17",
   "metadata": {},
   "outputs": [],
   "source": [
    "tabT = np.array([0.934, .916, .903, 0.928, 0.893])"
   ]
  },
  {
   "cell_type": "markdown",
   "id": "84b29c7c",
   "metadata": {},
   "source": [
    "Nous pouvons ensuite calculer la valeur moyenne de la période (a vous de mettre des unitées au résultat)..."
   ]
  },
  {
   "cell_type": "code",
   "execution_count": 3,
   "id": "e06a34fe",
   "metadata": {},
   "outputs": [
    {
     "name": "stdout",
     "output_type": "stream",
     "text": [
      "Tmoy = 0.9148 ...unité ?...\n"
     ]
    }
   ],
   "source": [
    "Tmoy = np.mean(tabT)\n",
    "print(\"Tmoy = {:.4} ...unité ?...\".format(Tmoy))"
   ]
  },
  {
   "cell_type": "markdown",
   "id": "9a4115bc",
   "metadata": {},
   "source": [
    "...et l'écart-type expérimental, égal à l'incertitude-type associée à **une seule** mesure"
   ]
  },
  {
   "cell_type": "code",
   "execution_count": 4,
   "id": "01fc4c71",
   "metadata": {},
   "outputs": [
    {
     "name": "stdout",
     "output_type": "stream",
     "text": [
      "u_T = 0.01702 ...unité ?...\n"
     ]
    }
   ],
   "source": [
    "u_T = np.std(tabT, ddof=1)\n",
    "print(\"u_T = {:.4} ...unité ?...\".format(u_T))"
   ]
  },
  {
   "cell_type": "markdown",
   "id": "3209032b",
   "metadata": {},
   "source": [
    "Représentation des valeurs trouvées. La **valeur moyenne** est en **rouge** et l'écart-type est représenté par une double flèche. "
   ]
  },
  {
   "cell_type": "code",
   "execution_count": 5,
   "id": "92200ac3",
   "metadata": {},
   "outputs": [
    {
     "data": {
      "image/png": "[encoded data removed]",
      "text/plain": [
       "<Figure size 432x288 with 1 Axes>"
      ]
     },
     "metadata": {
      "needs_background": "light"
     },
     "output_type": "display_data"
    }
   ],
   "source": [
    "plt.clf()\n",
    "plt.tick_params(left = False, labelleft = False)\n",
    "plt.plot((tabT,tabT),(0,1), 'blue')\n",
    "plt.plot((Tmoy,Tmoy),(0,1), 'red', lw=2)\n",
    "plt.annotate('',xy=(Tmoy-u_T,0.5),xytext=(Tmoy,0.5), arrowprops=dict(arrowstyle='<->',lw=2))\n",
    "plt.annotate('',xy=(Tmoy,0.5),xytext=(Tmoy+u_T,0.5), arrowprops=dict(arrowstyle='<->',lw=2))\n",
    "plt.xlabel(\"Durée de la période d'oscillation en ...unité ?...\")\n",
    "plt.show()"
   ]
  },
  {
   "cell_type": "markdown",
   "id": "2dba760c",
   "metadata": {},
   "source": [
    "## 100 mesures"
   ]
  },
  {
   "cell_type": "markdown",
   "id": "28080f2f",
   "metadata": {},
   "source": [
    "Vous avez un peu de temps devant vous et vous effectuez maintenant 100 mesures (au moins 50). Vous pouvez pour cela faire plusieurs observations (une vingtaine) pour un même lancer de pendule. Utilisez le chronomètre en ligne utilisé dans le TP précédent pour rendre la tache plus rapide s'il le faut.  "
   ]
  },
  {
   "cell_type": "code",
   "execution_count": 6,
   "id": "7386f256",
   "metadata": {},
   "outputs": [],
   "source": [
    "tabT2 = np.array([0.906,0.925,0.912,0.930,0.928,0.936,0.887,0.934,0.905,0.901,0.908,0.913,0.898,0.928,0.894,0.922,0.914,0.904,0.914,0.942,0.912,0.903,0.937,0.926,0.933,0.900,0.899,0.945,0.935,0.930,0.885,0.931,0.932,0.929,0.914,0.902,0.895,0.901,0.931,0.907,0.946,0.913,0.907,0.909,0.922,0.897,0.944,0.903,0.882,0.910,0.918,0.906,0.905,0.937,0.914,0.915,0.893,0.909,0.922,0.949,0.926,0.918,0.891,0.895,0.895,0.909,0.890,0.907,0.891,0.917,0.922,0.921,0.897,0.893,0.927,0.910,0.917,0.925,0.917,0.922,0.907,0.922,0.903,0.907,0.931,0.895,0.918,0.895,0.904,0.911,0.902,0.880,0.926,0.927,0.913,0.941,0.929,0.911,0.902,0.934])"
   ]
  },
  {
   "cell_type": "code",
   "execution_count": 7,
   "id": "36b385bc",
   "metadata": {},
   "outputs": [
    {
     "name": "stdout",
     "output_type": "stream",
     "text": [
      "Période moyenne : 0.9140 ...unité ?....\n",
      "Nombre d'observations : 100\n",
      "Écart-type expérimental 0.0158 ...unité ?....\n"
     ]
    }
   ],
   "source": [
    "Tmoy2 = np.mean(tabT2)\n",
    "u_T2 = np.std(tabT2,ddof=1)\n",
    "print(\"Période moyenne : {:.4f} ...unité ?....\".format(Tmoy2))\n",
    "print(\"Nombre d'observations : {:}\".format(len(tabT2)))\n",
    "print(\"Écart-type expérimental {:.4f} ...unité ?....\".format(u_T2))"
   ]
  },
  {
   "cell_type": "code",
   "execution_count": 8,
   "id": "39ea8560",
   "metadata": {},
   "outputs": [
    {
     "data": {
      "image/png": "[encoded data removed]",
      "text/plain": [
       "<Figure size 432x288 with 1 Axes>"
      ]
     },
     "metadata": {
      "needs_background": "light"
     },
     "output_type": "display_data"
    }
   ],
   "source": [
    "plt.clf()\n",
    "plt.tick_params(left = False, labelleft = False)\n",
    "plt.plot((tabT2,tabT2),(0,1), 'blue')\n",
    "plt.plot((Tmoy2,Tmoy2),(0,1), 'red', lw=2)\n",
    "plt.annotate('',xy=(Tmoy2-u_T2,0.5),xytext=(Tmoy2,0.5), arrowprops=dict(arrowstyle='<->',lw=2))\n",
    "plt.annotate('',xy=(Tmoy2,0.5),xytext=(Tmoy2+u_T2,0.5), arrowprops=dict(arrowstyle='<->',lw=2))\n",
    "plt.xlabel(\"Durée de la période d'oscillation en ...unité ?...\")\n",
    "plt.show()"
   ]
  },
  {
   "cell_type": "markdown",
   "id": "ddf7f57b",
   "metadata": {},
   "source": [
    "Une autre représentation est l'histogramme, ce qui permet de mieux visualiser les choses:"
   ]
  },
  {
   "cell_type": "code",
   "execution_count": 9,
   "id": "f0f4b4da",
   "metadata": {},
   "outputs": [
    {
     "data": {
      "image/png": "[encoded data removed]",
      "text/plain": [
       "<Figure size 432x288 with 1 Axes>"
      ]
     },
     "metadata": {
      "needs_background": "light"
     },
     "output_type": "display_data"
    }
   ],
   "source": [
    "plt.clf()\n",
    "num, bins, patches = plt.hist(tabT2, bins='rice')\n",
    "plt.plot((Tmoy2,Tmoy2),(0,max(num)),'red',lw=2)\n",
    "plt.annotate('',xy=(Tmoy2-u_T2,max(num)*0.61),xytext=(Tmoy2,max(num)*0.61), arrowprops=dict(arrowstyle='<->', lw=2))\n",
    "plt.annotate('',xy=(Tmoy2,max(num)*0.61),xytext=(Tmoy2+u_T2,max(num)*0.61), arrowprops=dict(arrowstyle='<->', lw=2))\n",
    "plt.xlabel(\"Durée de la période d'oscillation en ...unité ?...\")\n",
    "plt.ylabel(\"Nombre de mesures de durées \\n pour chaque intervalle de durée\")\n",
    "plt.show()"
   ]
  },
  {
   "cell_type": "markdown",
   "id": "c18bdd38",
   "metadata": {},
   "source": [
    "## 1000 mesures ou plus"
   ]
  },
  {
   "cell_type": "markdown",
   "id": "3835b2a5",
   "metadata": {},
   "source": [
    "Vous réalisez maintenant 1000 mesures. La fonction ci-dessous permet de générer un ensemble d'acquisition de la durée d'une période T qui en moyenne vaut `Tmoy2` d'après la partie précédente et tel que l'écart type pour **une** observation $u(T)$ soit `u_T2`. "
   ]
  },
  {
   "cell_type": "code",
   "execution_count": 10,
   "id": "03aafad6",
   "metadata": {},
   "outputs": [
    {
     "data": {
      "image/png": "[encoded data removed]",
      "text/plain": [
       "<Figure size 432x288 with 1 Axes>"
      ]
     },
     "metadata": {
      "needs_background": "light"
     },
     "output_type": "display_data"
    }
   ],
   "source": [
    "N = 1000 # Nombre de mesures\n",
    "tabT3 = Tmoy2 + u_T2*rd.normal(0,1,N)\n",
    "\n",
    "plt.clf()\n",
    "num, bins, patches = plt.hist(tabT3, bins='rice')\n",
    "plt.plot((Tmoy2,Tmoy2),(0,max(num)),'red',lw=2)\n",
    "plt.annotate('',xy=(Tmoy2-u_T2,max(num)*0.61),xytext=(Tmoy2,max(num)*0.61), arrowprops=dict(arrowstyle='<->', lw=2))\n",
    "plt.annotate('',xy=(Tmoy2,max(num)*0.61),xytext=(Tmoy2+u_T2,max(num)*0.61), arrowprops=dict(arrowstyle='<->', lw=2))\n",
    "plt.xlabel(\"Durée de la période d'oscillation en ...unité ?...\")\n",
    "plt.ylabel(\"Nombre de mesures de durées \\n pour chaque intervalle de durée\")\n",
    "plt.show()"
   ]
  },
  {
   "cell_type": "markdown",
   "id": "c9597c84",
   "metadata": {},
   "source": [
    "**A vous de jouer**\n",
    ">Vous pouvez changer dans les lignes ci-dessous le nombre de mesure et/ou l'écart type $u_T$ pour comprendre l'influence de ces deux paramètres. "
   ]
  },
  {
   "cell_type": "code",
   "execution_count": 11,
   "id": "f01929f1",
   "metadata": {},
   "outputs": [
    {
     "data": {
      "image/png": "[encoded data removed]",
      "text/plain": [
       "<Figure size 432x288 with 1 Axes>"
      ]
     },
     "metadata": {
      "needs_background": "light"
     },
     "output_type": "display_data"
    }
   ],
   "source": [
    "N = 10000 # Nombre de mesures\n",
    "Tm = 1\n",
    "uT = 0.01\n",
    "T = Tm + uT*rd.normal(0,1,N)\n",
    "\n",
    "plt.clf()\n",
    "num, bins, patches = plt.hist(T, bins='rice')\n",
    "plt.plot((Tm,Tm),(0,max(num)),'red', lw=2)\n",
    "plt.annotate('',xy=(Tm-uT,max(num)*0.61),xytext=(Tm,max(num)*0.61), arrowprops=dict(arrowstyle='<->', lw=2))\n",
    "plt.annotate('',xy=(Tm,max(num)*0.61),xytext=(Tm+uT,max(num)*0.61), arrowprops=dict(arrowstyle='<->', lw=2))\n",
    "plt.xlabel(\".............\")\n",
    "plt.ylabel(\".............\")\n",
    "plt.show()"
   ]
  },
  {
   "cell_type": "markdown",
   "id": "40066d9f",
   "metadata": {},
   "source": [
    "# Ecart normalisé"
   ]
  },
  {
   "cell_type": "markdown",
   "id": "c5e4161a",
   "metadata": {},
   "source": [
    "Il est interressant en TP et nécessaire en science de comparer les résultats de mesure que vous avez obtenus avec d'autres groupes. Le but en TP n'est pas de savoir qui a raison ou qui est le plus précis, mais de savoir si vos résultats de mesure sont compatibles entre eux. Vous êtes censés avoir le même pendule (même longueur de fil, même masses), et mesurer les périodes de la même manière, est-ce vraiment le cas ? \n",
    "\n",
    "Nous allons générer aléatoirement les mesures de deux groupes différents. Chaque groupe a calculé la valeur moyenne $T_{moy}$ de ces données et l'écart-type $u(T)$"
   ]
  },
  {
   "cell_type": "markdown",
   "id": "512e7416",
   "metadata": {},
   "source": [
    "## Premier groupe"
   ]
  },
  {
   "cell_type": "code",
   "execution_count": 12,
   "id": "4dc5e058",
   "metadata": {},
   "outputs": [],
   "source": [
    "TmoyA = 0.915\n",
    "u_TA = 0.017\n",
    "\n",
    "# Génération de 1000 valeurs aléatoires qui suivent la valeur moyenne et l'écart-type ci-dessus\n",
    "N = 1000 \n",
    "tabTA = TmoyA + u_TA*rd.normal(0,1,N)"
   ]
  },
  {
   "cell_type": "markdown",
   "id": "207010b6",
   "metadata": {},
   "source": [
    "## Deuxième groupe"
   ]
  },
  {
   "cell_type": "code",
   "execution_count": 13,
   "id": "900a5c00",
   "metadata": {},
   "outputs": [],
   "source": [
    "TmoyB = 0.994\n",
    "u_TB = 0.03\n",
    "\n",
    "# Génération de 1000 valeurs aléatoires qui suivent la valeur moyenne et l'écart-type ci-dessus\n",
    "N = 1000 \n",
    "tabTB = TmoyB + u_TB*rd.normal(0,1,N)"
   ]
  },
  {
   "cell_type": "markdown",
   "id": "41599c5b",
   "metadata": {},
   "source": [
    "## Représentation des résultats"
   ]
  },
  {
   "cell_type": "code",
   "execution_count": 14,
   "id": "0611af2b",
   "metadata": {},
   "outputs": [
    {
     "data": {
      "image/png": "[encoded data removed]",
      "text/plain": [
       "<Figure size 432x288 with 1 Axes>"
      ]
     },
     "metadata": {
      "needs_background": "light"
     },
     "output_type": "display_data"
    }
   ],
   "source": [
    "plt.clf()\n",
    "plt.hist(tabTA, bins='rice', histtype = 'step')\n",
    "plt.hist(tabTB, bins='rice', histtype = 'step')\n",
    "plt.show()"
   ]
  },
  {
   "cell_type": "markdown",
   "id": "90f6ad42",
   "metadata": {},
   "source": [
    "Est-ce que, visuellement, les distributions se recouvrent ? Si oui, vos mesures sont probablement compatibles entre elles. Pour être plus **quantitatif**, c'est-à-dire donner une valeur expérimentale au critère \"compatible entre elles\" (à opposer à l'observation **qualitative** \"les courbes se recouvrent\"), on définit une grandeur qui est l'écart normalisé avec un critère :\n",
    "+ si l'écart normalisé est supérieur à 2, les mesures des deux groupes sont incompatibles\n",
    "+ si l'écart normalisé est inférieur ou égal à 2, les mesures des deux groupes sont compatibles"
   ]
  },
  {
   "cell_type": "markdown",
   "id": "bba5320f",
   "metadata": {},
   "source": [
    "## Calcul de l'écart normalisé"
   ]
  },
  {
   "cell_type": "markdown",
   "id": "00774ff8",
   "metadata": {},
   "source": [
    "**A vous de jouer**\n",
    "> Traduisez informatiquement la formule ci-contre permettant de calculer l'écart normalisé entre deux mesures d'une même grandeur physique $X$ par deux expérimentateurs différents $A$ et $B$ : $$EN = \\dfrac{|\\overline{x_A}-\\overline{x_B}|}{u(\\overline{x_A})^2 + u(\\overline{x_B})^2}$$"
   ]
  },
  {
   "cell_type": "code",
   "execution_count": 15,
   "id": "5f2cb7b0",
   "metadata": {},
   "outputs": [],
   "source": [
    "#En = np.abs(TmoyA-TmoyB)/np.sqrt(       **2+         **2)\n",
    "\n",
    "#print(\"L'écart normalisé vaut En = \", format(En, \"#.1g\"))"
   ]
  },
  {
   "cell_type": "code",
   "execution_count": null,
   "id": "1eda1aee",
   "metadata": {},
   "outputs": [],
   "source": []
  }
 ],
 "metadata": {
  "kernelspec": {
   "display_name": "Python 3 (ipykernel)",
   "language": "python",
   "name": "python3"
  },
  "language_info": {
   "codemirror_mode": {
    "name": "ipython",
    "version": 3
   },
   "file_extension": ".py",
   "mimetype": "text/x-python",
   "name": "python",
   "nbconvert_exporter": "python",
   "pygments_lexer": "ipython3",
   "version": "3.9.7"
  }
 },
 "nbformat": 4,
 "nbformat_minor": 5
}
