{
 "cells": [
  {
   "cell_type": "code",
   "execution_count": 14,
   "metadata": {},
   "outputs": [
    {
     "name": "stdout",
     "output_type": "stream",
     "text": [
      "theta_0 = 1.89e-03 °; u(theta_0) = 1.14e-01 °\n"
     ]
    },
    {
     "data": {
      "image/png": "[encoded data removed]",
      "text/plain": [
       "<Figure size 432x288 with 1 Axes>"
      ]
     },
     "metadata": {
      "needs_background": "light"
     },
     "output_type": "display_data"
    }
   ],
   "source": [
    "import numpy as np\n",
    "import matplotlib.pyplot as plt\n",
    "import numpy.random as rd # bibliothèque pour créer des nombres aléatoires\n",
    "N_sim = 10000 # nombre de simulations à faire\n",
    "\n",
    "#Ecrire vos valeurs ci-dessous\n",
    "phi0 = 75 #mette le résultat en degrés\n",
    "phi1 = 100 #mettre le résultat en degrés\n",
    "phim1 =  50 #mettre le résultat en degrés\n",
    "\n",
    "#phi0_MC = np.zeros(N_sim) # un vecteur de taille N_sim qui contient des zéros\n",
    "#phi1_MC = np.zeros(N_sim) # un vecteur de taille N_sim qui contient des zéros\n",
    "#phim1_MC = np.zeros(N_sim) # un vecteur de taille N_sim qui contient des zéros\n",
    "theta0_MC = np.zeros(N_sim) # un vecteur de taille N_sim qui contient des zéros\n",
    "\n",
    "for i in range(N_sim):\n",
    "    phi0_MC = phi0 + rd.uniform(-1, 1)/60 # simulation de distance objet-lentille\n",
    "    phi1_MC = phi1 + rd.uniform(-1, 1)/60 # simulation de distance lentille-écran \n",
    "    phim1_MC = phim1 + rd.uniform(-1, 1)/60 # simulation de distance lentille-écran \n",
    "    theta0_MC[i] = np.degrees(np.arctan((np.sin(np.radians(phi1_MC-phi0_MC))+np.sin(np.radians(phim1_MC-phi0_MC))) / (2 - np.cos(np.radians(phi1_MC-phi0_MC))-np.cos(np.radians(phim1_MC-phi0_MC)))))\n",
    "    \n",
    "num, bins, patches = plt.hist(theta0_MC, bins='rice') # trace l’histogramme\n",
    "print(\"theta_0 = {:.2e} °; u(theta_0) = {:.2e} °\".format(np.mean(theta0_MC), np.std(theta0_MC, ddof=1)))\n",
    "plt.show()"
   ]
  },
  {
   "cell_type": "markdown",
   "metadata": {},
   "source": [
    "### Mesure d'une longueur d'onde\n",
    "\n",
    "Mesure de $\\lambda$ à partir d'une mesure d'angle $\\varphi_1$, de la mesure de $\\theta_0$ et de la formule du réseau.  "
   ]
  },
  {
   "cell_type": "code",
   "execution_count": 16,
   "metadata": {},
   "outputs": [
    {
     "name": "stdout",
     "output_type": "stream",
     "text": [
      "lambda = 2.19e+02 nm; u(lambda) = 2.25e+01 nm\n"
     ]
    },
    {
     "data": {
      "image/png": "[encoded data removed]",
      "text/plain": [
       "<Figure size 432x288 with 1 Axes>"
      ]
     },
     "metadata": {
      "needs_background": "light"
     },
     "output_type": "display_data"
    }
   ],
   "source": [
    "a = 1e6/600 #réseau de 600 traits par mm\n",
    "long_onde = np.zeros(N_sim) # un vecteur de taille N_sim qui contient des zéros\n",
    "for i in range(N_sim):\n",
    "    phi0_MC = phi0 + rd.uniform(-1, 1)/60 # simulation de distance objet-lentille\n",
    "    phi1_MC = phi1 + rd.uniform(-1, 1)/60 # simulation de distance lentille-écran \n",
    "    phim1_MC = phim1 + rd.uniform(-1, 1)/60 # simulation de distance lentille-écran \n",
    "    long_onde[i] = -(np.sin(phi1_MC-phi0_MC+theta0_MC[i])-np.sin(theta0_MC[i]))*a \n",
    "\n",
    "num, bins, patches = plt.hist(long_onde, bins='rice') # trace l’histogramme\n",
    "print(\"lambda = {:.2e} nm; u(lambda) = {:.2e} nm\".format(np.mean(long_onde), np.std(long_onde, ddof=1)))\n",
    "plt.show()"
   ]
  },
  {
   "cell_type": "code",
   "execution_count": null,
   "metadata": {},
   "outputs": [],
   "source": []
  }
 ],
 "metadata": {
  "kernelspec": {
   "display_name": "Python 3",
   "language": "python",
   "name": "python3"
  },
  "language_info": {
   "codemirror_mode": {
    "name": "ipython",
    "version": 3
   },
   "file_extension": ".py",
   "mimetype": "text/x-python",
   "name": "python",
   "nbconvert_exporter": "python",
   "pygments_lexer": "ipython3",
   "version": "3.7.6"
  }
 },
 "nbformat": 4,
 "nbformat_minor": 4
}
