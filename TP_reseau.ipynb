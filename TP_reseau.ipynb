{
 "cells": [
  {
   "cell_type": "markdown",
   "metadata": {},
   "source": [
    "# Calcul de l'angle incident\n",
    "\n",
    "- Choisissez une raie intense du mercure et repérez la valeur des angles des ordres de diffraction + et - 2 ainsi que la valeur de l'angle du rayon incident. \n",
    "- Reportez ces valeurs dans le code qui suit à l'aide des variables `phi0`, `phi2`, `phim2`.\n",
    "- Modifier l'incertitude si nécessaire dans `rd.uniform(-1/60, 1/60, N_sim)` pour qu'elle corresponde à vos mesures. Sous cette forme l'incertitude est de 1/60 de degrés, soit une graduation sur la platine de précision. "
   ]
  },
  {
   "cell_type": "code",
   "execution_count": 1,
   "metadata": {},
   "outputs": [
    {
     "name": "stdout",
     "output_type": "stream",
     "text": [
      "theta_0 = 0.000 °; u(theta_0) = 0.028 °\n"
     ]
    },
    {
     "data": {
      "image/png": "[encoded data removed]",
      "text/plain": [
       "<Figure size 432x288 with 1 Axes>"
      ]
     },
     "metadata": {
      "needs_background": "light"
     },
     "output_type": "display_data"
    }
   ],
   "source": [
    "import numpy as np\n",
    "import matplotlib.pyplot as plt\n",
    "import numpy.random as rd # bibliothèque pour créer des nombres aléatoires\n",
    "N_sim = 10000 # nombre de simulations à faire\n",
    "\n",
    "#Ecrire vos valeurs ci-dessous\n",
    "phi0 = 0 #mette le résultat en degrés\n",
    "phi2 = 45 #mettre le résultat en degrés\n",
    "phim2 =  -45 #mettre le résultat en degrés\n",
    "\n",
    "phi0_MC = phi0 + rd.uniform(-1/60, 1/60, N_sim) # simulation de N_sim lectures de l'angle incident\n",
    "phi2_MC = phi2 + rd.uniform(-1/60, 1/60, N_sim) # simulation de N_sim lectures de l'angle de diffraction d'ordre 2\n",
    "phim2_MC = phim2 + rd.uniform(-1/60, 1/60, N_sim) # simulation de N_sim lectures de l'angle de diffraction d'ordre -2\n",
    "theta0_MC = np.degrees(np.arctan((np.sin(np.radians(phi2_MC-phi0_MC))+np.sin(np.radians(phim2_MC-phi0_MC))) / (2 - np.cos(np.radians(phi2_MC-phi0_MC))-np.cos(np.radians(phim2_MC-phi0_MC)))))\n",
    "\n",
    "\n",
    "    \n",
    "plt.figure()\n",
    "num, bins, patches = plt.hist(theta0_MC, bins='rice') # trace l’histogramme\n",
    "print(\"theta_0 = {:.3f} °; u(theta_0) = {:.2g} °\".format(np.mean(theta0_MC), np.std(theta0_MC, ddof=1)))\n",
    "plt.show()\n",
    "plt.close()"
   ]
  },
  {
   "cell_type": "markdown",
   "metadata": {},
   "source": [
    " > Vérifiez que vous obtenez la même valeur (tenir compte de l'incertitude) de $\\theta_0$ pour d'autres raies d'ordre 2. Si ce n'est pas le cas, vous sous-estimez vos incertitudes ou les mesures ne sont pas correctes (réglage, manipulation). il faudra faire la moyenne et l'écart-type de l'ensemble de vos valeurs."
   ]
  },
  {
   "cell_type": "markdown",
   "metadata": {},
   "source": [
    "# Mesure d'une longueur d'onde\n",
    "\n",
    "Mesure de $\\lambda$ à partir d'une mesure d'angle $\\varphi_2$, $\\varphi_{-2}$, du calcul de $\\theta_0$ et de la formule du réseau.  "
   ]
  },
  {
   "cell_type": "code",
   "execution_count": 2,
   "metadata": {},
   "outputs": [
    {
     "name": "stdout",
     "output_type": "stream",
     "text": [
      "lambda = 589.255 nm; u(lambda) = 0.07 nm\n"
     ]
    },
    {
     "data": {
      "image/png": "[encoded data removed]",
      "text/plain": [
       "<Figure size 432x288 with 1 Axes>"
      ]
     },
     "metadata": {
      "needs_background": "light"
     },
     "output_type": "display_data"
    }
   ],
   "source": [
    "# avec trois mesures (phi2, phi-2, phi0) et un calcul (theta0)\n",
    "plt.figure()\n",
    "a = 1e6/600 #réseau de 600 traits par mm\n",
    "p = 2 #ordre considéré qui devrait être 1 si on utilise phi 1 /!\\\n",
    "\n",
    "phi0 = 0 #mette le résultat en degrés\n",
    "phi2 = 45 #mettre le résultat en degrés\n",
    "phim2 =  -45 #mettre le résultat en degrés\n",
    "\n",
    "phi0_MC = phi0 + rd.uniform(-1/60, 1/60, N_sim) # simulation de N_sim lectures de l'angle incident\n",
    "phi2_MC = phi2 + rd.uniform(-1/60, 1/60, N_sim) # simulation de N_sim lectures de l'angle de diffraction d'ordre 2\n",
    "phim2_MC = phim2 + rd.uniform(-1/60, 1/60, N_sim) # simulation de N_sim lectures de l'angle de diffraction d'ordre -2\n",
    "long_onde = np.abs(np.sin(np.radians(phi2_MC-phi0_MC+theta0_MC))-np.sin(np.radians(phim2_MC-phi0_MC+theta0_MC)))*a/(2*p)\n",
    "\n",
    "num, bins, patches = plt.hist(long_onde, bins='rice') # trace l’histogramme\n",
    "print(\"lambda = {:.3f} nm; u(lambda) = {:.2g} nm\".format(np.mean(long_onde), np.std(long_onde, ddof=1)))\n",
    "plt.show()\n",
    "plt.close()"
   ]
  },
  {
   "cell_type": "code",
   "execution_count": null,
   "metadata": {},
   "outputs": [],
   "source": []
  }
 ],
 "metadata": {
  "kernelspec": {
   "display_name": "Python 3 (ipykernel)",
   "language": "python",
   "name": "python3"
  },
  "language_info": {
   "codemirror_mode": {
    "name": "ipython",
    "version": 3
   },
   "file_extension": ".py",
   "mimetype": "text/x-python",
   "name": "python",
   "nbconvert_exporter": "python",
   "pygments_lexer": "ipython3",
   "version": "3.9.12"
  }
 },
 "nbformat": 4,
 "nbformat_minor": 4
}
