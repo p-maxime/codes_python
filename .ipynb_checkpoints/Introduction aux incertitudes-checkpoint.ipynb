{
 "cells": [
  {
   "cell_type": "markdown",
   "id": "0e99652c",
   "metadata": {},
   "source": [
    "# Incertitude type"
   ]
  },
  {
   "cell_type": "markdown",
   "id": "31faf64f",
   "metadata": {},
   "source": [
    "L'objectif de ce document est de comprendre la variabilité d'une mesure en physique-chimie. Nous introduirons les outils d'**écart-type** et d'**incertitude-type** ainsi que l'**écart normalisé** ou **z-score**. \n",
    "\n",
    "\n",
    "Prenons l'exemple d'un pendule de longueur $l$ donc vous souhaitez mesurer la période $T$. \n",
    "\n",
    "<center><img src=\"https://upload.wikimedia.org/wikipedia/commons/d/d2/Pendulum.svg\" alt=\"\" width=\"400\" /></a></center>"
   ]
  },
  {
   "cell_type": "markdown",
   "id": "79528ff9",
   "metadata": {},
   "source": [
    "## 5 mesures"
   ]
  },
  {
   "cell_type": "markdown",
   "id": "3ced3814",
   "metadata": {},
   "source": [
    "Vous effectuez 5 mesures de la période "
   ]
  },
  {
   "cell_type": "code",
   "execution_count": 1,
   "id": "2e76427f",
   "metadata": {},
   "outputs": [],
   "source": [
    "#importation des bibliothèques\n",
    "import matplotlib.pyplot as plt\n",
    "import numpy as np\n",
    "import numpy.random as rd  "
   ]
  },
  {
   "cell_type": "code",
   "execution_count": 2,
   "id": "c96fbf17",
   "metadata": {},
   "outputs": [],
   "source": [
    "T = np.array([0.934, .916, .903, 0.928, 0.893])"
   ]
  },
  {
   "cell_type": "markdown",
   "id": "84b29c7c",
   "metadata": {},
   "source": [
    "Nous pouvons ensuite calculer la valeur moyenne de la période"
   ]
  },
  {
   "cell_type": "code",
   "execution_count": 3,
   "id": "e06a34fe",
   "metadata": {},
   "outputs": [],
   "source": [
    "Tmoy = np.mean(T)"
   ]
  },
  {
   "cell_type": "markdown",
   "id": "9a4115bc",
   "metadata": {},
   "source": [
    "Et l'écart-type associé (donc l'incertitude)"
   ]
  },
  {
   "cell_type": "code",
   "execution_count": 4,
   "id": "01fc4c71",
   "metadata": {},
   "outputs": [],
   "source": [
    "u_T = np.std(T, ddof=1)"
   ]
  },
  {
   "cell_type": "markdown",
   "id": "3209032b",
   "metadata": {},
   "source": [
    "Représentation des valeurs trouvées. La **valeur moyenne** est en **rouge** et l'écart-type est représenté par une double flèche. "
   ]
  },
  {
   "cell_type": "code",
   "execution_count": 5,
   "id": "92200ac3",
   "metadata": {},
   "outputs": [
    {
     "data": {
      "image/png": "[encoded data removed]",
      "text/plain": [
       "<Figure size 432x288 with 1 Axes>"
      ]
     },
     "metadata": {
      "needs_background": "light"
     },
     "output_type": "display_data"
    }
   ],
   "source": [
    "plt.clf()\n",
    "plt.plot((T,T),(0,1), 'blue')\n",
    "plt.plot((Tmoy,Tmoy),(0,1), 'red', lw=2)\n",
    "plt.annotate('',xy=(Tmoy-u_T,0.5),xytext=(Tmoy,0.5), arrowprops=dict(arrowstyle='<->',lw=2))\n",
    "plt.annotate('',xy=(Tmoy,0.5),xytext=(Tmoy+u_T,0.5), arrowprops=dict(arrowstyle='<->',lw=2))\n",
    "plt.show()"
   ]
  },
  {
   "cell_type": "code",
   "execution_count": 6,
   "id": "6e58f767",
   "metadata": {},
   "outputs": [
    {
     "name": "stdout",
     "output_type": "stream",
     "text": [
      "La moyenne vaut T =  0.915 s\n",
      "l'incertitude-type associée : u(T) =  0.017 s\n"
     ]
    }
   ],
   "source": [
    "print(\"La moyenne vaut T = \", format(Tmoy, \"#.3g\"), \"s\")\n",
    "print(\"l'incertitude-type associée : u(T) = \", format(u_T , \"#.2g\"), \"s\" )"
   ]
  },
  {
   "cell_type": "markdown",
   "id": "2dba760c",
   "metadata": {},
   "source": [
    "## 100 mesures"
   ]
  },
  {
   "cell_type": "markdown",
   "id": "28080f2f",
   "metadata": {},
   "source": [
    "Vous avez un peu de temps devant vous et vous effectuez maintenant 100 mesures"
   ]
  },
  {
   "cell_type": "code",
   "execution_count": 7,
   "id": "7386f256",
   "metadata": {},
   "outputs": [],
   "source": [
    "T = np.array([0.906,0.925,0.912,0.930,0.928,0.936,0.887,0.934,0.905,0.901,0.908,0.913,0.898,0.928,0.894,0.922,0.914,0.904,0.914,0.942,0.912,0.903,0.937,0.926,0.933,0.900,0.899,0.945,0.935,0.930,0.885,0.931,0.932,0.929,0.914,0.902,0.895,0.901,0.931,0.907,0.946,0.913,0.907,0.909,0.922,0.897,0.944,0.903,0.882,0.910,0.918,0.906,0.905,0.937,0.914,0.915,0.893,0.909,0.922,0.949,0.926,0.918,0.891,0.895,0.895,0.909,0.890,0.907,0.891,0.917,0.922,0.921,0.897,0.893,0.927,0.910,0.917,0.925,0.917,0.922,0.907,0.922,0.903,0.907,0.931,0.895,0.918,0.895,0.904,0.911,0.902,0.880,0.926,0.927,0.913,0.941,0.929,0.911,0.902,0.934])"
   ]
  },
  {
   "cell_type": "code",
   "execution_count": 8,
   "id": "39ea8560",
   "metadata": {},
   "outputs": [
    {
     "data": {
      "image/png": "[encoded data removed]",
      "text/plain": [
       "<Figure size 432x288 with 1 Axes>"
      ]
     },
     "metadata": {
      "needs_background": "light"
     },
     "output_type": "display_data"
    }
   ],
   "source": [
    "plt.clf()\n",
    "plt.plot((T,T),(0,1), 'blue')\n",
    "plt.plot((Tmoy,Tmoy),(0,1), 'red', lw=2)\n",
    "plt.annotate('',xy=(Tmoy-u_T,0.5),xytext=(Tmoy,0.5), arrowprops=dict(arrowstyle='<->',lw=2))\n",
    "plt.annotate('',xy=(Tmoy,0.5),xytext=(Tmoy+u_T,0.5), arrowprops=dict(arrowstyle='<->',lw=2))\n",
    "plt.show()"
   ]
  },
  {
   "cell_type": "markdown",
   "id": "ddf7f57b",
   "metadata": {},
   "source": [
    "Une autre représentation est l'histogramme, ce qui permet de mieux visualiser les choses:"
   ]
  },
  {
   "cell_type": "code",
   "execution_count": 9,
   "id": "f0f4b4da",
   "metadata": {},
   "outputs": [
    {
     "data": {
      "image/png": "[encoded data removed]",
      "text/plain": [
       "<Figure size 432x288 with 1 Axes>"
      ]
     },
     "metadata": {
      "needs_background": "light"
     },
     "output_type": "display_data"
    }
   ],
   "source": [
    "plt.clf()\n",
    "num, bins, patches = plt.hist(T, bins='rice')\n",
    "plt.plot((Tmoy,Tmoy),(0,max(num)),'red',lw=2)\n",
    "plt.annotate('',xy=(Tmoy-u_T,max(num)*0.61),xytext=(Tmoy,max(num)*0.61), arrowprops=dict(arrowstyle='<->', lw=2))\n",
    "plt.annotate('',xy=(Tmoy,max(num)*0.61),xytext=(Tmoy+u_T,max(num)*0.61), arrowprops=dict(arrowstyle='<->', lw=2))\n",
    "plt.show()"
   ]
  },
  {
   "cell_type": "markdown",
   "id": "c18bdd38",
   "metadata": {},
   "source": [
    "## 1000 mesures ou plus"
   ]
  },
  {
   "cell_type": "markdown",
   "id": "3835b2a5",
   "metadata": {},
   "source": [
    "Vous réalisez maintenant 1000 mesures. La fonction ci-dessous permet de générer un ensemble de mesure tel que la valeur moyenne soit $T$ et l'écart type $u(T)$. "
   ]
  },
  {
   "cell_type": "code",
   "execution_count": 10,
   "id": "03aafad6",
   "metadata": {},
   "outputs": [
    {
     "data": {
      "image/png": "[encoded data removed]",
      "text/plain": [
       "<Figure size 432x288 with 1 Axes>"
      ]
     },
     "metadata": {
      "needs_background": "light"
     },
     "output_type": "display_data"
    }
   ],
   "source": [
    "N = 1000 # Nombre de mesures\n",
    "T = Tmoy + u_T*rd.normal(0,1,N)\n",
    "\n",
    "plt.clf()\n",
    "num, bins, patches = plt.hist(T, bins='rice')\n",
    "plt.plot((Tmoy,Tmoy),(0,max(num)),'red',lw=2)\n",
    "plt.annotate('',xy=(Tmoy-u_T,max(num)*0.61),xytext=(Tmoy,max(num)*0.61), arrowprops=dict(arrowstyle='<->', lw=2))\n",
    "plt.annotate('',xy=(Tmoy,max(num)*0.61),xytext=(Tmoy+u_T,max(num)*0.61), arrowprops=dict(arrowstyle='<->', lw=2))\n",
    "plt.show()"
   ]
  },
  {
   "cell_type": "markdown",
   "id": "c9597c84",
   "metadata": {},
   "source": [
    "**A vous de jouer**\n",
    ">Vous pouvez changer dans les lignes ci-dessous le nombre de mesure et/ou l'écart type $u_T$ pour comprendre l'influence de ces deux paramètres. "
   ]
  },
  {
   "cell_type": "code",
   "execution_count": 11,
   "id": "f01929f1",
   "metadata": {},
   "outputs": [
    {
     "data": {
      "image/png": "[encoded data removed]",
      "text/plain": [
       "<Figure size 432x288 with 1 Axes>"
      ]
     },
     "metadata": {
      "needs_background": "light"
     },
     "output_type": "display_data"
    }
   ],
   "source": [
    "N = 10000 # Nombre de mesures\n",
    "T = Tmoy + u_T*rd.normal(0,1,N)\n",
    "\n",
    "plt.clf()\n",
    "num, bins, patches = plt.hist(T, bins='rice')\n",
    "plt.plot((Tmoy,Tmoy),(0,max(num)),'red', lw=2)\n",
    "plt.annotate('',xy=(Tmoy-u_T,max(num)*0.61),xytext=(Tmoy,max(num)*0.61), arrowprops=dict(arrowstyle='<->', lw=2))\n",
    "plt.annotate('',xy=(Tmoy,max(num)*0.61),xytext=(Tmoy+u_T,max(num)*0.61), arrowprops=dict(arrowstyle='<->', lw=2))\n",
    "plt.show()"
   ]
  },
  {
   "cell_type": "markdown",
   "id": "40066d9f",
   "metadata": {},
   "source": [
    "# Ecart normalisé"
   ]
  },
  {
   "cell_type": "markdown",
   "id": "c5e4161a",
   "metadata": {},
   "source": [
    "Un autre groupe a effectué des mesures sur le même pendule. Vous voulez voir si vos deux ensemble de mesures sont compatibles. Nous allons générer aléatoirement les mesures de chaque groupe. Chaque groupe a calculé la valeur moyenne $T_{moy}$ de ces données et l'écart-type $u(T)$"
   ]
  },
  {
   "cell_type": "markdown",
   "id": "512e7416",
   "metadata": {},
   "source": [
    "## Premier groupe"
   ]
  },
  {
   "cell_type": "code",
   "execution_count": 12,
   "id": "4dc5e058",
   "metadata": {},
   "outputs": [],
   "source": [
    "Tmoy1 = 0.915\n",
    "u_T1 = 0.017\n",
    "\n",
    "# Génération de 1000 valeurs aléatoires qui suivent la valeur moyenne et l'écart-type ci-dessus\n",
    "N = 1000 \n",
    "T1 = Tmoy1 + u_T1*rd.normal(0,1,N)"
   ]
  },
  {
   "cell_type": "markdown",
   "id": "207010b6",
   "metadata": {},
   "source": [
    "## Deuxième groupe"
   ]
  },
  {
   "cell_type": "code",
   "execution_count": 13,
   "id": "900a5c00",
   "metadata": {},
   "outputs": [],
   "source": [
    "Tmoy2 = 0.994\n",
    "u_T2 = 0.03\n",
    "\n",
    "# Génération de 1000 valeurs aléatoires qui suivent la valeur moyenne et l'écart-type ci-dessus\n",
    "N = 1000 \n",
    "T2 = Tmoy2 + u_T2*rd.normal(0,1,N)"
   ]
  },
  {
   "cell_type": "markdown",
   "id": "41599c5b",
   "metadata": {},
   "source": [
    "## Représentation des résultats"
   ]
  },
  {
   "cell_type": "code",
   "execution_count": 14,
   "id": "0611af2b",
   "metadata": {},
   "outputs": [
    {
     "data": {
      "image/png": "[encoded data removed]",
      "text/plain": [
       "<Figure size 432x288 with 1 Axes>"
      ]
     },
     "metadata": {
      "needs_background": "light"
     },
     "output_type": "display_data"
    }
   ],
   "source": [
    "plt.clf()\n",
    "plt.hist(T1, bins='rice', histtype = 'step')\n",
    "plt.hist(T2, bins='rice', histtype = 'step')\n",
    "plt.show()"
   ]
  },
  {
   "cell_type": "markdown",
   "id": "bba5320f",
   "metadata": {},
   "source": [
    "## Calcul de l'écart normalisé"
   ]
  },
  {
   "cell_type": "markdown",
   "id": "00774ff8",
   "metadata": {},
   "source": [
    "**A vous de jouer**\n",
    "> Rentrer ci-dessous la formule permettant de calculer l'écart normalisé"
   ]
  },
  {
   "cell_type": "code",
   "execution_count": 15,
   "id": "5f2cb7b0",
   "metadata": {},
   "outputs": [
    {
     "name": "stdout",
     "output_type": "stream",
     "text": [
      "L'écart normalisé vaut En =  2.\n"
     ]
    }
   ],
   "source": [
    "En = np.abs(Tmoy1-Tmoy2)/np.sqrt(u_T1**2+u_T2**2)\n",
    "print(\"L'écart normalisé vaut En = \", format(En, \"#.1g\"))"
   ]
  },
  {
   "cell_type": "markdown",
   "id": "81ffc61e",
   "metadata": {},
   "source": [
    "**A vous de jouer**\n",
    "> Modifier les lignes de codes ci-dessous pour le deuxième groupe afin de trouver un écart normalisé de 2. Le choix d'avoir choisi un écart normalisé de 2 vous parait-il pertinent? "
   ]
  },
  {
   "cell_type": "code",
   "execution_count": null,
   "id": "1eda1aee",
   "metadata": {},
   "outputs": [],
   "source": []
  }
 ],
 "metadata": {
  "kernelspec": {
   "display_name": "Python 3 (ipykernel)",
   "language": "python",
   "name": "python3"
  },
  "language_info": {
   "codemirror_mode": {
    "name": "ipython",
    "version": 3
   },
   "file_extension": ".py",
   "mimetype": "text/x-python",
   "name": "python",
   "nbconvert_exporter": "python",
   "pygments_lexer": "ipython3",
   "version": "3.9.12"
  }
 },
 "nbformat": 4,
 "nbformat_minor": 5
}
