{
 "cells": [
  {
   "cell_type": "markdown",
   "metadata": {},
   "source": [
    "## Mesure de la distance focale d'une lentille convergente \n",
    "\n",
    "Le but est de donner une valeur de la distance focale d'une lentille convergente et de voir si la variabilité associée au processus de mesure donne des résultats compatibles, à la fois à la valeur indiquée par le constructeur, et à la fois compatibles entre eux."
   ]
  },
  {
   "cell_type": "code",
   "execution_count": 6,
   "metadata": {},
   "outputs": [
    {
     "name": "stdout",
     "output_type": "stream",
     "text": [
      "f' = 20.209854258655593 cm  u(f') = 0.01490903176969234 cm\n"
     ]
    }
   ],
   "source": [
    "import numpy as np # Numpy permet de faire des calculs simples sur des arrays\n",
    "import matplotlib.pyplot as plt # Matplotlib pour tracer des graphes\n",
    "\n",
    "d_obj = np.array([-29.5, -71.5, -60, -53.5, -45.5, -40, -34.5]) # \"N\" mesures de la dist. objet-lentille\n",
    "d_ecr = np.array([64.7, 28.2, 30.4, 32.4, 36.3, 40.7, 49.1]) # \"N\" mesures de la dist. lentille-écran\n",
    "\n",
    "foc = 1/(1/d_ecr-1/d_obj) # calcul des distances focales\n",
    "f_val = np.mean(foc) # calcul de la valeur moyenne mesurée\n",
    "\n",
    "uf = np.std(foc, ddof=1)/np.sqrt(np.size(d_obj)) # incertitude-type (évaluation de type A) pour \"N\" mesures\n",
    "print(\"f' =\",f_val, \"cm\", \" u(f') =\", uf, \"cm\") # affichage du résultat"
   ]
  },
  {
   "cell_type": "markdown",
   "metadata": {},
   "source": [
    "<div class=\"alert alert-block alert-info\">\n",
    "    Notez correctement la valeur du résultat sur le document réponse (bon nombre de chiffres pour $\\overline{f'}$ et $u(\\overline{f'})$.\n",
    "</div>"
   ]
  },
  {
   "cell_type": "code",
   "execution_count": 3,
   "metadata": {},
   "outputs": [
    {
     "data": {
      "image/png": "[encoded data removed]",
      "text/plain": [
       "<Figure size 432x288 with 1 Axes>"
      ]
     },
     "metadata": {
      "needs_background": "light"
     },
     "output_type": "display_data"
    }
   ],
   "source": [
    "plt.plot(foc, 'o') # représentation des valeurs obtenues\n",
    "plt.plot( (0,6),(f_val,f_val) ) # tracé de droite représentant la valeur moyenne\n",
    "plt.show() # affichage de la figure"
   ]
  },
  {
   "cell_type": "markdown",
   "metadata": {},
   "source": [
    "### Vérification de chaque mesure\n",
    "Vos points expérimentaux sont-ils compatibles avec la valeur de f' déterminée précédement ? Le code ci-dessous permet de faire une simulation de la mesure de la distance focale pour un seul couple de distance lentille/image, lentille/objet.  "
   ]
  },
  {
   "cell_type": "code",
   "execution_count": 21,
   "metadata": {},
   "outputs": [
    {
     "data": {
      "image/png": "[encoded data removed]",
      "text/plain": [
       "<Figure size 432x288 with 1 Axes>"
      ]
     },
     "metadata": {
      "needs_background": "light"
     },
     "output_type": "display_data"
    }
   ],
   "source": [
    "import numpy.random as rd # bibliothèque pour créer des nombres aléatoires\n",
    "N_sim = 10000 # nombre de simulations à faire\n",
    "f1_MC = np.zeros(N_sim) # un vecteur de taille N_sim qui contient des zéros\n",
    "for i in range(N_sim):\n",
    "    d_obj_MC = -29.5 + rd.uniform(-0.5, 0.5) # simulation de distance objet-lentille\n",
    "    d_ecr_MC = 64.7 + rd.uniform(-0.5, 0.5) # simulation de distance lentille-écran \n",
    "    f1_MC[i] = 1 / (1/d_ecr_MC-1/d_obj_MC) # calcul de la focale\n",
    "num, bins, patches = plt.hist(f1_MC, bins='rice') # trace l’histogramme avec un nombre de classes optimalplt.plot((f_val,f_val), (0,300)) # tracé de la valeur mesurée (sur la base des 7 obs.)\n",
    "plt.plot( (f_val,f_val),(0,np.max(num)) ) \n",
    "plt.show() # affichage des graphes\n",
    "foc_res = np.mean(f1_MC) # moyenne de toutes les focales simulées\n",
    "u_foc_res = np.std(f1_MC, ddof=1) # écart-type de toutes les focales simulées\n"
   ]
  },
  {
   "cell_type": "code",
   "execution_count": 20,
   "metadata": {},
   "outputs": [
    {
     "name": "stdout",
     "output_type": "stream",
     "text": [
      "L'écart normalisé vaut En =  1.2\n"
     ]
    }
   ],
   "source": [
    "En = np.abs(foc_res-f_val)/np.sqrt(u_foc_res**2+uf**2)\n",
    "print(\"L'écart normalisé vaut En = \", format(En, \"#.2g\"))"
   ]
  },
  {
   "cell_type": "code",
   "execution_count": null,
   "metadata": {},
   "outputs": [],
   "source": []
  }
 ],
 "metadata": {
  "kernelspec": {
   "display_name": "Python 3",
   "language": "python",
   "name": "python3"
  },
  "language_info": {
   "codemirror_mode": {
    "name": "ipython",
    "version": 3
   },
   "file_extension": ".py",
   "mimetype": "text/x-python",
   "name": "python",
   "nbconvert_exporter": "python",
   "pygments_lexer": "ipython3",
   "version": "3.7.6"
  }
 },
 "nbformat": 4,
 "nbformat_minor": 4
}
