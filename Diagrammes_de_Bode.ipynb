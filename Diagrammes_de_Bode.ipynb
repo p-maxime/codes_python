{
 "cells": [
  {
   "cell_type": "markdown",
   "id": "1efbef31",
   "metadata": {},
   "source": [
    "# Tracé des diagrammes de Bode en utilisant les résultats obtenus à l'oscilloscope."
   ]
  },
  {
   "cell_type": "code",
   "execution_count": 1,
   "id": "b60cd89d",
   "metadata": {},
   "outputs": [
    {
     "data": {
      "image/png": "[encoded data removed]",
      "text/plain": [
       "<Figure size 432x288 with 1 Axes>"
      ]
     },
     "metadata": {
      "needs_background": "light"
     },
     "output_type": "display_data"
    },
    {
     "data": {
      "image/png": "[encoded data removed]",
      "text/plain": [
       "<Figure size 432x288 with 1 Axes>"
      ]
     },
     "metadata": {
      "needs_background": "light"
     },
     "output_type": "display_data"
    }
   ],
   "source": [
    "import numpy as np\n",
    "import matplotlib.pyplot as plt\n",
    "\n",
    "#Rentrer les différentes fréquences choisies (en Hz) puis les différentes amplitudes et phase mesurées\n",
    "frequence = np.array([1, 2, 5, 10, 20, 50, 100, 200, 500, 1e3, 2e3, 5e3, 1e4, 2e4, 5e4, 1e5, 2e5, 5e5, 1e6])\n",
    "amplitude = np.array([ 1.00,  1.00,  1.00,  1.00,  1.00,  1.00,  1.00,  1.00,  1.00, 1.01,  1.04,  1.33,  10.00,  0.33,  0.04,  0.0101,  0.0025,  0.0004,  0.0001])\n",
    "dephasage = np.array([-0.00, -0.00, -0.00, -0.00, -0.00, -0.00, -0.00, -0.00, -0.01, -0.01, -0.02, -0.07, -1.57, -3.08, -3.12, -3.13, -3.14, -3.14, -3.14])\n",
    "\n",
    "plt.figure(1)\n",
    "plt.plot(frequence,20*np.log10(amplitude),'+')\n",
    "plt.xscale('log')\n",
    "plt.show()\n",
    "plt.figure(2)\n",
    "plt.plot(frequence,dephasage,'+')\n",
    "plt.xscale('log')\n",
    "plt.show()"
   ]
  },
  {
   "cell_type": "code",
   "execution_count": null,
   "id": "ff6d0dea",
   "metadata": {},
   "outputs": [],
   "source": []
  },
  {
   "cell_type": "code",
   "execution_count": null,
   "id": "f72a7275",
   "metadata": {},
   "outputs": [],
   "source": []
  },
  {
   "cell_type": "markdown",
   "id": "78df793d",
   "metadata": {},
   "source": [
    "# Simulation"
   ]
  },
  {
   "cell_type": "code",
   "execution_count": 2,
   "id": "0ec0d053",
   "metadata": {},
   "outputs": [
    {
     "ename": "NameError",
     "evalue": "name 'cuda' is not defined",
     "output_type": "error",
     "traceback": [
      "\u001b[1;31m---------------------------------------------------------------------------\u001b[0m",
      "\u001b[1;31mNameError\u001b[0m                                 Traceback (most recent call last)",
      "\u001b[1;32m~\\AppData\\Local\\Temp/ipykernel_19144/2148427068.py\u001b[0m in \u001b[0;36m<module>\u001b[1;34m\u001b[0m\n\u001b[0;32m      1\u001b[0m \u001b[1;32mfrom\u001b[0m \u001b[0mipywidgets\u001b[0m \u001b[1;32mimport\u001b[0m \u001b[0minteract\u001b[0m\u001b[1;33m,\u001b[0m \u001b[0mLayout\u001b[0m\u001b[1;33m,\u001b[0m \u001b[0mwidgets\u001b[0m\u001b[1;33m\u001b[0m\u001b[1;33m\u001b[0m\u001b[0m\n\u001b[0;32m      2\u001b[0m \u001b[0mget_ipython\u001b[0m\u001b[1;33m(\u001b[0m\u001b[1;33m)\u001b[0m\u001b[1;33m.\u001b[0m\u001b[0mrun_line_magic\u001b[0m\u001b[1;33m(\u001b[0m\u001b[1;34m'matplotlib'\u001b[0m\u001b[1;33m,\u001b[0m \u001b[1;34m'notebook'\u001b[0m\u001b[1;33m)\u001b[0m\u001b[1;33m\u001b[0m\u001b[1;33m\u001b[0m\u001b[0m\n\u001b[1;32m----> 3\u001b[1;33m \u001b[1;33m@\u001b[0m\u001b[0mcuda\u001b[0m\u001b[1;33m.\u001b[0m\u001b[0mjit\u001b[0m\u001b[1;33m\u001b[0m\u001b[1;33m\u001b[0m\u001b[0m\n\u001b[0m\u001b[0;32m      4\u001b[0m \u001b[1;32mdef\u001b[0m \u001b[0msortie\u001b[0m\u001b[1;33m(\u001b[0m\u001b[0mQ\u001b[0m\u001b[1;33m,\u001b[0m\u001b[0mf0\u001b[0m\u001b[1;33m,\u001b[0m\u001b[0mf\u001b[0m\u001b[1;33m,\u001b[0m\u001b[0me\u001b[0m\u001b[1;33m)\u001b[0m\u001b[1;33m:\u001b[0m\u001b[1;33m\u001b[0m\u001b[1;33m\u001b[0m\u001b[0m\n\u001b[0;32m      5\u001b[0m     '''\n",
      "\u001b[1;31mNameError\u001b[0m: name 'cuda' is not defined"
     ]
    }
   ],
   "source": [
    "from ipywidgets import interact, Layout, widgets\n",
    "%matplotlib widget\n",
    "\n",
    "\n",
    "def sortie(Q,f0,f,e): \n",
    "    '''\n",
    "    Fonction qui retourne la valeur de l'amplitude et du déphasage par rapport au terme de forçage\n",
    "    '''\n",
    "    x = f/f0\n",
    "    Amplitude = e/np.sqrt(np.square(1-np.square(x))+np.square(x/Q))\n",
    "    Déphasage = -np.pi/2-np.arctan(Q*(np.square(x)-1)/x)\n",
    "    return Amplitude, Déphasage\n",
    "\n",
    "fig = plt.figure(3,figsize = (12,7))\n",
    "ax0 = fig.add_subplot(2, 1, 1)\n",
    "ax1 = fig.add_subplot(2, 2, 3)\n",
    "ax2 = fig.add_subplot(2, 2, 4)\n",
    "F = np.logspace(-1,5,1000)\n",
    "line0a, line0b, = ax0.plot([],[],[],[],'r--')\n",
    "line1a,line1b = ax1.plot(F,F,[],[],'o')\n",
    "line2a,line2b = ax2.plot(F,F,[],[],'o')\n",
    "ax0.set_ylim([-6,6])\n",
    "ax0.set_xlim([0,100])\n",
    "line0a.set_label('Réponse')\n",
    "line0b.set_label('Consigne')\n",
    "ax0.legend(loc = 'upper right')\n",
    "ax0.set_xlabel('Temps (s)')\n",
    "ax0.set_ylabel('Tension (V)')\n",
    "ax1.set_ylim([-3*20,20*3])\n",
    "ax1.set_xlabel('Fréquence (Hz)')\n",
    "ax1.set_ylabel('Gain')\n",
    "ax1.set_xscale('log')\n",
    "ax1.grid(True,which=\"both\",linestyle='--')\n",
    "ax2.set_xscale('log')\n",
    "ax2.set_ylim([-3.5,0.2])\n",
    "ax2.grid(True,which=\"both\",linestyle='--')\n",
    "ax2.set_xlabel('Fréquence (Hz)')\n",
    "ax2.set_ylabel('Déphasage')\n",
    "\n",
    "\n",
    "def tracer(Q,f0,f,e):\n",
    "    '''\n",
    "    Trace les diagrammes de Bode et la réponse temporelle\n",
    "    f est ici un scalaire (pas un tableau) uniquement utilisé pour tracer le signal temporel\n",
    "    '''\n",
    "    global F\n",
    "    #pour tracer sur une échelle de temps correspondant à n périodes du signal\n",
    "    n = 30\n",
    "    t = np.linspace(0,n/f,1000) \n",
    "    #pour tracer les diagrammes de Bode de 1 Hz à 1MHz\n",
    "    Amplitude, Déphasage = sortie(Q,f0,F,e)\n",
    "    G = 20*np.log10(Amplitude/e)\n",
    "    a, d = sortie(Q,f0,f,e)\n",
    "    #Tracé des figures\n",
    "    line0a.set_ydata(a*np.cos(2*np.pi*f*t+d))\n",
    "    line0b.set_ydata(e*np.cos(2*np.pi*f*t))\n",
    "    line0a.set_xdata(t)\n",
    "    line0b.set_xdata(t)\n",
    "    line1a.set_ydata(G)\n",
    "    line1b.set_ydata(20*np.log10(a/e))\n",
    "    line1b.set_xdata(f)\n",
    "    line2a.set_ydata(Déphasage)\n",
    "    line2b.set_ydata(d)\n",
    "    line2b.set_xdata(f)\n",
    "    xmin0,xmax0 = ax0.get_xlim()\n",
    "    ymin0,ymax0 = ax0.get_ylim()\n",
    "    if xmax0-xmin0 > n/f or xmax0-xmin0 < 0.1*n/f:#calibre de temps automatique\n",
    "        ax0.set_xlim([0,0.4*n/f])\n",
    "    if ymax0 < a and a > 1.2*e:\n",
    "            ax0.set_ylim([-a*2,a*2])      \n",
    "    elif ymax0 > 4*a and ymax0 > 1.2*e:\n",
    "        ax0.set_ylim([-np.max([a,e])*1.2,np.max([a,e])*1.2])    \n",
    "    fig.canvas.draw_idle()\n",
    "    plt.show()\n",
    "\n",
    "interact(tracer,\n",
    "    Q=widgets.FloatLogSlider(\n",
    "        value=5,\n",
    "        base=10,\n",
    "        min=-2, \n",
    "        max=2, \n",
    "        step=0.01, \n",
    "        description='Q',\n",
    "        layout=Layout(width='800px')), \n",
    "    f0=widgets.FloatLogSlider(\n",
    "        value=1000,\n",
    "        base=10,\n",
    "        min=-1, \n",
    "        max=4, \n",
    "        step=0.001, \n",
    "        description='f0',\n",
    "        layout=Layout(width='800px')),\n",
    "    f=widgets.FloatLogSlider(\n",
    "        value=10,\n",
    "        base=10,\n",
    "        min=-1, \n",
    "        max=4, \n",
    "        step=0.001, \n",
    "        description='f',\n",
    "        layout=Layout(width='800px')),\n",
    "    e=(1,10,0.1));\n",
    "\n",
    "\n",
    "\n"
   ]
  },
  {
   "cell_type": "code",
   "execution_count": null,
   "id": "02f0dd32",
   "metadata": {},
   "outputs": [],
   "source": []
  },
  {
   "cell_type": "code",
   "execution_count": null,
   "id": "04821909",
   "metadata": {},
   "outputs": [],
   "source": []
  },
  {
   "cell_type": "code",
   "execution_count": 3,
   "id": "6a755632",
   "metadata": {},
   "outputs": [
    {
     "data": {
      "text/plain": [
       "array([ 1.0000,  1.0000,  1.0000,  1.0000,  1.0000,  1.0000,  1.0001,\n",
       "        1.0004,  1.0025,  1.0100,  1.0414,  1.3304,  10.0000,  0.3326,\n",
       "        0.0417,  0.0101,  0.0025,  0.0004,  0.0001])"
      ]
     },
     "execution_count": 3,
     "metadata": {},
     "output_type": "execute_result"
    }
   ],
   "source": [
    "#Pour simuler un jeu de données d'amplitude et de phase à partir d'un jeu de fréquences\n",
    "amp,deph = sortie(10,10e3,frequence,1)\n",
    "np.set_printoptions(formatter={'float': '{: 0.4f}'.format})\n",
    "amp"
   ]
  },
  {
   "cell_type": "code",
   "execution_count": null,
   "id": "932bd35b",
   "metadata": {},
   "outputs": [],
   "source": []
  }
 ],
 "metadata": {
  "kernelspec": {
   "display_name": "Python 3 (ipykernel)",
   "language": "python",
   "name": "python3"
  },
  "language_info": {
   "codemirror_mode": {
    "name": "ipython",
    "version": 3
   },
   "file_extension": ".py",
   "mimetype": "text/x-python",
   "name": "python",
   "nbconvert_exporter": "python",
   "pygments_lexer": "ipython3",
   "version": "3.7.11"
  }
 },
 "nbformat": 4,
 "nbformat_minor": 5
}
